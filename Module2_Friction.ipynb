{
 "cells": [
  {
   "cell_type": "code",
   "execution_count": null,
   "id": "5bfd03d1",
   "metadata": {},
   "outputs": [],
   "source": [
    "## Goals\n",
    "# Computer experiments: \n",
    "# Rate-state friction with spring-slider;\n",
    "# Transients and limit cycles\n",
    "# Stick slip earthquake sequences."
   ]
  },
  {
   "cell_type": "code",
   "execution_count": null,
   "id": "397b9dda",
   "metadata": {},
   "outputs": [],
   "source": [
    "# Rate and State friction\n",
    "# f = f0 + alog(V/V0) + blog(theta/)"
   ]
  }
 ],
 "metadata": {
  "kernelspec": {
   "display_name": "Python 3 (ipykernel)",
   "language": "python",
   "name": "python3"
  },
  "language_info": {
   "codemirror_mode": {
    "name": "ipython",
    "version": 3
   },
   "file_extension": ".py",
   "mimetype": "text/x-python",
   "name": "python",
   "nbconvert_exporter": "python",
   "pygments_lexer": "ipython3",
   "version": "3.8.5"
  }
 },
 "nbformat": 4,
 "nbformat_minor": 5
}
