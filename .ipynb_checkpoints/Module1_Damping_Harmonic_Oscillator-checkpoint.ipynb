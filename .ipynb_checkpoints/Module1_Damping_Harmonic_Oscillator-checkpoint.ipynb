{
 "cells": [
  {
   "cell_type": "markdown",
   "id": "adc78d5c",
   "metadata": {},
   "source": [
    "The notebook demonstrates how to solve and visualize a damped harmonic oscillator system. "
   ]
  },
  {
   "cell_type": "markdown",
   "id": "7e2608b1",
   "metadata": {},
   "source": [
    "The notebook demonstrates how to solve and visualize a damped harmonic oscillator system. \n",
    "\\begin{align}\n",
    "\\ddot{x} + 2 \\zeta \\dot{x} + \\omega_0 x = f\n",
    "\\end{align}\n",
    "\n",
    "where \n",
    "\\begin{align} \n",
    "\\omega_0 = \\sqrt{k/m} \\\\\n",
    "\\zeta    = \\mu / 2m \n",
    "\\end{align}\n",
    "\n",
    "\\begin{align}\n",
    "\\left\\{\n",
    "\\begin{array}{ll}\n",
    "-\\nabla \\cdot \\sigma = f   & \\text{in} \\; \\Omega \\\\\n",
    "\\sigma = 2\\mu\\varepsilon + \\lambda \\text{tr}(\\varepsilon) I  & \\text{in} \\; \\Omega \\\\\n",
    "\\varepsilon = \\frac{1}{2} (\\nabla u + (\\nabla u)^T) & \\text{in} \\; \\Omega \\\\\n",
    "u = 0 & \\text{on} \\; \\Gamma_{D} \n",
    "\\end{array}\n",
    "\\right.\n",
    "\\end{align}"
   ]
  },
  {
   "cell_type": "code",
   "execution_count": 6,
   "id": "9c07996c",
   "metadata": {},
   "outputs": [],
   "source": [
    "import numpy as np\n",
    "import pandas as pd\n",
    "import matplotlib.pyplot as plt\n",
    "from scipy import integrate\n",
    "import ipywidgets as ipw"
   ]
  },
  {
   "cell_type": "code",
   "execution_count": 13,
   "id": "236116dc",
   "metadata": {},
   "outputs": [
    {
     "data": {
      "image/png": "[encoded data removed]",
      "text/plain": [
       "<Figure size 432x288 with 1 Axes>"
      ]
     },
     "metadata": {
      "needs_background": "light"
     },
     "output_type": "display_data"
    },
    {
     "data": {
      "application/vnd.jupyter.widget-view+json": {
       "model_id": "b4378050125f450ba3d8c40f7b585746",
       "version_major": 2,
       "version_minor": 0
      },
      "text/plain": [
       "interactive(children=(FloatSlider(value=0.05, description='zeta', max=1.0, step=0.01), FloatSlider(value=6.283…"
      ]
     },
     "metadata": {},
     "output_type": "display_data"
    }
   ],
   "source": [
    "def ode(X, t, zeta, omega0):\n",
    "    \"\"\"\n",
    "    Free Harmonic Oscillator ODE\n",
    "    \"\"\"\n",
    "    x, dotx = X\n",
    "    ddotx = -2*zeta*omega0*dotx - omega0**2*x\n",
    "    return [dotx, ddotx]\n",
    "\n",
    "def update(zeta = 0.05, omega0 = 2.*np.pi):\n",
    "    \"\"\"\n",
    "    Update function.\n",
    "    \"\"\"\n",
    "    X0 = [1., 0.]\n",
    "    sol = integrate.odeint(ode, X0, t, args = (zeta, omega0))\n",
    "    line0.set_ydata(sol[:, 0])\n",
    "\n",
    "Nt = 1000\n",
    "t = np.linspace(0., 10., Nt)\n",
    "dummy = np.zeros_like(t)\n",
    "fig = plt.figure()\n",
    "line0, = plt.plot(t, dummy, label = \"position\")\n",
    "plt.grid()\n",
    "plt.ylim(-1., 1.)\n",
    "plt.xlabel(\"Time, $t$\")\n",
    "plt.ylabel(\"Amplitude, $a$\")\n",
    "plt.legend()\n",
    "\n",
    "ipw.interact(update, zeta = (0., 1., 0.01),\n",
    "           omega0 = (2.*np.pi*0.05, 2.*np.pi*5, 2.*np.pi*0.01));"
   ]
  },
  {
   "cell_type": "code",
   "execution_count": null,
   "id": "e1570b34",
   "metadata": {},
   "outputs": [],
   "source": []
  }
 ],
 "metadata": {
  "kernelspec": {
   "display_name": "Python 3 (ipykernel)",
   "language": "python",
   "name": "python3"
  },
  "language_info": {
   "codemirror_mode": {
    "name": "ipython",
    "version": 3
   },
   "file_extension": ".py",
   "mimetype": "text/x-python",
   "name": "python",
   "nbconvert_exporter": "python",
   "pygments_lexer": "ipython3",
   "version": "3.8.5"
  }
 },
 "nbformat": 4,
 "nbformat_minor": 5
}
