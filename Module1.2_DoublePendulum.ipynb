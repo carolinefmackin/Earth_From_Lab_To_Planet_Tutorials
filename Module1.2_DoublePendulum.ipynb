{
 "cells": [
  {
   "cell_type": "markdown",
   "id": "7e2608b1",
   "metadata": {},
   "source": [
    "The notebook demonstrates how to solve the motions of a double pendulum. <br>\n",
    "\n",
    "The tutorial contains functions of four first-order ODEs that build up the system. The system is solved by the Euler, Midpoint, Runge-Kutta methods we developed previously. "
   ]
  },
  {
   "cell_type": "code",
   "execution_count": 1,
   "id": "9c07996c",
   "metadata": {},
   "outputs": [
    {
     "name": "stdout",
     "output_type": "stream",
     "text": [
      "Note: you may need to restart the kernel to use updated packages.\n"
     ]
    }
   ],
   "source": [
    "%pip install -q ipywidgets matplotlib numpy scipy pandas\n",
    "import numpy  as np\n",
    "import pandas as pd\n",
    "import ode    as odeLib        # our ODE routines\n",
    "import matplotlib.pyplot as plt\n",
    "from   math                 import radians, sin, cos, pi\n",
    "from   scipy                import integrate\n",
    "from   ipywidgets           import *\n",
    "from   IPython.display      import display"
   ]
  },
  {
   "cell_type": "code",
   "execution_count": 2,
   "id": "30d47135",
   "metadata": {},
   "outputs": [],
   "source": [
    "#\n",
    "# define the problem\n",
    "#\n",
    "class parameters:                 # parameters for functions, default values\n",
    "    l1 = 1.\n",
    "    l2 = 1.\n",
    "    m1 = 2.\n",
    "    m2 = 2.\n",
    "    g  = 9.8\n",
    "# \n",
    "# define functions for ODE solvres, need to be in f(t,x,par) format\n",
    "#\n",
    "# damping harmonic oscillator, dx/dt for dotx and x.\n",
    "\n",
    "ndim   = 4\n",
    "vlabel = [\"the1\", \"the2\", \"w1\", \"w2\"]            # labels for the variables\n",
    "# All the angles are in radians.\n",
    "# the1: the angular position of mass 1. \n",
    "# the2: the angular position of mass 2.\n",
    "# w1  : the angular velocity of mass 1.\n",
    "# w2  : the angular velocity of mass 2.\n",
    "\n",
    "def f0(t,x,par): # dthe1/dt = w1\n",
    "    return x[2]\n",
    "def f1(t,x,par): # dthe2/dt = w2\n",
    "    return x[3]\n",
    "def f2(t,x,par): # dw1/dt \n",
    "    g  = par.g\n",
    "    m1 = par.m1\n",
    "    m2 = par.m2\n",
    "    l1 = par.l1\n",
    "    l2 = par.l2\n",
    "    \n",
    "    numerator   = -g*(2*m1+m2)*sin(x[0])-m2*g*sin(x[0]-2*x[1]) - 2*sin(x[0]-x[1])*m2*(x[3]*x[3]*l2 + x[2]*x[2]*l1*cos(x[0]-x[1]))\n",
    "    denominator = l1*(2*m1+m2-m2*cos(2*x[0]-2*x[1]))\n",
    "    return numerator/denominator\n",
    "\n",
    "def f3(t,x,par): # dw2/dt \n",
    "    g  = par.g\n",
    "    m1 = par.m1\n",
    "    m2 = par.m2\n",
    "    l1 = par.l1\n",
    "    l2 = par.l2\n",
    "    \n",
    "    numerator   = 2*sin(x[0]-x[1])*(x[2]*x[2]*l1*(m1+m2) + g*(m1+m2)*cos(x[0]) + x[3]*x[3]*l2*m2*cos(x[0]-x[1]))\n",
    "    denominator = l2*(2*m1 + m2 - m2*cos(2*x[0] - 2*x[1]))\n",
    "    \n",
    "    return numerator/denominator\n",
    "\n",
    "def xy(theta1, theta2, par):\n",
    "    # given the time series of theta1 and theta2 and l1 and l2, \n",
    "    # return locations of the two masses as a function of time.\n",
    "    m1 = par.m1\n",
    "    m2 = par.m2\n",
    "    l1 = par.l1\n",
    "    l2 = par.l2\n",
    "    \n",
    "    x1 = l1*np.sin(theta1)\n",
    "    y1 = -l1*np.cos(theta1)\n",
    "    x2 = x1 + l2*np.sin(theta2)\n",
    "    y2 = y1 - l2*np.cos(theta2)\n",
    "    \n",
    "    return x1,y1,x2,y2\n",
    "\n",
    "def ode_solver(time, xInit, method, ndim, par):\n",
    "    # method supports three options\n",
    "    # - 'eular'\n",
    "    # - 'midpoint'\n",
    "    # - 'runge_kutta'\n",
    "    \n",
    "    nstep = len(time)\n",
    "    xout  = np.empty((nstep,ndim))\n",
    "    \n",
    "    hs    = time[1] - time[0]\n",
    "    xtmp  = xInit\n",
    "    f     = [f0, f1, f2, f3]\n",
    "    for i, t in enumerate(time):\n",
    "        xout[i][:] = xtmp\n",
    "        if method  == 'euler':\n",
    "            xtmp   = odeLib.euler(t,xtmp,f,ndim,hs,par)\n",
    "        elif method == 'midpoint':\n",
    "            xtmp   = odeLib.midpoint(t,xtmp,f,ndim,hs,par)\n",
    "        elif method == 'runge_kutta':\n",
    "            xtmp   = odeLib.runge_kutta(t,xtmp,f,ndim,hs,par)\n",
    "\n",
    "    return xout"
   ]
  },
  {
   "cell_type": "code",
   "execution_count": 3,
   "id": "b6bfcb13",
   "metadata": {},
   "outputs": [],
   "source": [
    "def main(l1,l2,m1,m2, xi1,xi2,xi3,xi4):\n",
    "    \n",
    "    Nt     = 1000\n",
    "    t      = np.linspace(0., 10., Nt)\n",
    "\n",
    "    par        = parameters()\n",
    "    par.l1     = l1\n",
    "    par.l2     = l2\n",
    "    par.m1     = m1\n",
    "    par.m2     = m2\n",
    "    \n",
    "    xInit = [radians(xi1), radians(xi2), radians(xi3), radians(xi4)]\n",
    "    \n",
    "    xi     = xInit \n",
    "    x1a    = ode_solver(t, xi, 'euler',       ndim, par)\n",
    "\n",
    "    x1,y1,x2,y2 = xy(x1a[:,0],x1a[:,1], par)\n",
    "    \n",
    "    \n",
    "    fig    = plt.figure()\n",
    "    \n",
    "    plt.plot(t, x1a[:,0]/pi*180, 'g--',  label='theta1',    linewidth=2.5)\n",
    "    plt.plot(t, x1a[:,1]/pi*180, 'b:',   label='theta2', linewidth=2)\n",
    "    \n",
    "    plt.grid()\n",
    "    plt.ylim(-180., 180.)\n",
    "    plt.xlabel(\"Time, $t$\")\n",
    "    plt.ylabel(\"Amplitude, $a$\")\n",
    "    plt.legend()\n",
    "    \n",
    "    fig1   = plt.figure()\n",
    "    plt.plot(x1a[:,0]/pi*180, x1a[:,1]/pi*180, 'g--',    linewidth=2.5)\n",
    "    plt.xlabel(r\"$\\Theta_1$ [deg]\")\n",
    "    plt.ylabel(r\"$\\Theta_2$ [deg]\")    \n",
    "    \n",
    "    fig2   = plt.figure()\n",
    "    plt.plot(x1, y1, 'g--', label='ball1',   linewidth=2.5)\n",
    "    plt.plot(x2, y2, 'k--', label='ball2',   linewidth=2.5)\n",
    "    plt.xlabel(\"x\")\n",
    "    plt.ylabel(\"y\")\n",
    "    \n",
    "    return fig, fig1, fig2"
   ]
  },
  {
   "cell_type": "code",
   "execution_count": 4,
   "id": "d002bc6c",
   "metadata": {
    "scrolled": false
   },
   "outputs": [
    {
     "data": {
      "application/vnd.jupyter.widget-view+json": {
       "model_id": "93f616d93053447b9b1349acbfd117c8",
       "version_major": 2,
       "version_minor": 0
      },
      "text/plain": [
       "interactive(children=(FloatSlider(value=5.0, description='l1', max=10.0, min=0.5, step=0.5), FloatSlider(value…"
      ]
     },
     "metadata": {},
     "output_type": "display_data"
    }
   ],
   "source": [
    "w = interactive(main, l1 = (0.5, 10, 0.5), \n",
    "                      l2 = (0.5, 10, 0.5), \n",
    "                      m1 = (0.5, 10, 0.5), \n",
    "                      m2 = (0.5, 10, 0.5),  \n",
    "                      xi1= fixed(30), # initial angular positions in degrees.\n",
    "                      xi2= fixed(30),\n",
    "                      xi3= fixed(0),\n",
    "                      xi4= fixed(0))\n",
    "display(w)"
   ]
  }
 ],
 "metadata": {
  "kernelspec": {
   "display_name": "Python 3 (ipykernel)",
   "language": "python",
   "name": "python3"
  },
  "language_info": {
   "codemirror_mode": {
    "name": "ipython",
    "version": 3
   },
   "file_extension": ".py",
   "mimetype": "text/x-python",
   "name": "python",
   "nbconvert_exporter": "python",
   "pygments_lexer": "ipython3",
   "version": "3.9.13"
  }
 },
 "nbformat": 4,
 "nbformat_minor": 5
}
