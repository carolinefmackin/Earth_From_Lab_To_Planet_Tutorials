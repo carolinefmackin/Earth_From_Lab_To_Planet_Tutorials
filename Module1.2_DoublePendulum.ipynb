{
 "cells": [
  {
   "cell_type": "markdown",
   "id": "7e2608b1",
   "metadata": {},
   "source": [
    "The notebook demonstrates how to solve the motions of a double pendulum. <br>\n",
    "\n",
    "Here we provide the solutions that you can depend on to derive the first-order ODEs for the numerical implementation. For detailed derivations, you may refer to the link provided in the end of this Jupyter Notebook. <br>\n",
    "\n",
    "A pendulum describes a mechanical system that a mass that swings around a fixed end through the link of a rod governed by the gravity, tensions in the rod and kinematics. A double pendulum is a mechanical system that contains two pendulums attached end to end. For small motions, it is a simple linear system, while for large motions, the system is chaotic.\n",
    "\n",
    "The motions of the two masses in the double pendulum follow:\n",
    "\\begin{align}\n",
    "\\ddot{\\theta_1} = \\frac{-g(2m_1+m_2)sin\\theta_1 - m_2 g sin(\\theta_1 - 2\\theta_2) - 2sin(\\theta_1 - \\theta_2) m_2 (\\dot{\\theta_2}^2 L_2 + \\dot{\\theta_1}^2 L_1 cos(\\theta_1 - \\theta_2))}{L_1 (2m_1 + m_2 - m_2 cos(2 \\theta_1 - 2 \\theta_2))} \\\\\n",
    "\\ddot{\\theta_2} = \\frac{2 sin(\\theta_1 - \\theta_2)(\\dot{\\theta_1}^2 L_1 (m_1 + m_2) + g(m_1+m_2)cos\\theta_1 + \\dot{\\theta_2}^2 L_2 m_2 cos(\\theta_1 - \\theta_2))}{L_2(2 m_1 + m_2 - m_2 cos(2 \\theta_1 - 2 \\theta_2))}\n",
    "\\end{align}\n",
    "where $\\theta_1$ and $\\theta_2$ are angular positions of the upper and lower rods relative to the vertical axis, $m_1$ and $m_2$ are the masses of the upper and lower masses, $L_1$ and $L_2$ are the lengths of upper and lower rods, and $g$ is the gravitational constant. <br>\n",
    "\n",
    "To solve the second-order ordinary differential equation system, we can reduce it to a system of first-order ODEs and apply our previouly developed numerical algorithms. \n",
    "\n",
    "Could you derive the system of first-order ODEs we need for numerical implementation?"
   ]
  },
  {
   "cell_type": "code",
   "execution_count": 1,
   "id": "9c07996c",
   "metadata": {},
   "outputs": [
    {
     "name": "stdout",
     "output_type": "stream",
     "text": [
      "Note: you may need to restart the kernel to use updated packages.\n"
     ]
    }
   ],
   "source": [
    "%pip install -q ipywidgets matplotlib numpy scipy pandas\n",
    "import numpy  as np\n",
    "import pandas as pd\n",
    "import ode    as odeLib        # our ODE routines\n",
    "import matplotlib.pyplot as plt\n",
    "import matplotlib.animation as animation\n",
    "from collections import deque\n",
    "from   math                 import radians, sin, cos, pi\n",
    "from   scipy                import integrate\n",
    "from   ipywidgets           import *\n",
    "from   IPython.display      import display"
   ]
  },
  {
   "cell_type": "code",
   "execution_count": 2,
   "id": "30d47135",
   "metadata": {},
   "outputs": [],
   "source": [
    "#\n",
    "# define probelm\n",
    "#\n",
    "class parameters:                 # parameters for functions, default values\n",
    "    l1 = 1.\n",
    "    l2 = 1.\n",
    "    m1 = 2.\n",
    "    m2 = 2.\n",
    "    g  = 9.8\n",
    "# \n",
    "# define functions for ODE solvres, need to be in f(t,x,par) format\n",
    "#\n",
    "# damping harmonic oscillator, dx/dt for dotx and x.\n",
    "\n",
    "ndim   = 4\n",
    "vlabel = [\"the1\", \"the2\", \"w1\", \"w2\"]            # labels for the variables\n",
    "# All the angles are in radians.\n",
    "# the1: the angular position of mass 1. \n",
    "# the2: the angular position of mass 2.\n",
    "# w1  : the angular velocity of mass 1.\n",
    "# w2  : the angular velocity of mass 2.\n",
    "\n",
    "def f0(t,x,par): # dthe1/dt = w1\n",
    "    return x[2]\n",
    "def f1(t,x,par): # dthe2/dt = w2\n",
    "    return x[3]\n",
    "def f2(t,x,par): # dw1/dt  \n",
    "    g  = par.g\n",
    "    m1 = par.m1\n",
    "    m2 = par.m2\n",
    "    l1 = par.l1\n",
    "    l2 = par.l2\n",
    "    \n",
    "    numerator   = -g*(2*m1+m2)*sin(x[0])-m2*g*sin(x[0]-2*x[1]) - 2*sin(x[0]-x[1])*m2*(x[3]*x[3]*l2 + x[2]*x[2]*l1*cos(x[0]-x[1]))\n",
    "    denominator = l1*(2*m1+m2-m2*cos(2*x[0]-2*x[1]))\n",
    "    return numerator/denominator\n",
    "\n",
    "def f3(t,x,par): # dw2/dt\n",
    "    g  = par.g\n",
    "    m1 = par.m1\n",
    "    m2 = par.m2\n",
    "    l1 = par.l1\n",
    "    l2 = par.l2\n",
    "    \n",
    "    numerator   = 2*sin(x[0]-x[1])*(x[2]*x[2]*l1*(m1+m2) + g*(m1+m2)*cos(x[0]) + x[3]*x[3]*l2*m2*cos(x[0]-x[1]))\n",
    "    denominator = l2*(2*m1 + m2 - m2*cos(2*x[0] - 2*x[1]))\n",
    "    \n",
    "    return numerator/denominator\n",
    "\n",
    "def xy(theta1, theta2, par):\n",
    "    # given the time series of theta1 and theta2 and l1 and l2, \n",
    "    # return locations of the two masses as a function of time.\n",
    "    m1 = par.m1\n",
    "    m2 = par.m2\n",
    "    l1 = par.l1\n",
    "    l2 = par.l2\n",
    "    \n",
    "    x1 = l1*np.sin(theta1)\n",
    "    y1 = -l1*np.cos(theta1)\n",
    "    x2 = x1 + l2*np.sin(theta2)\n",
    "    y2 = y1 - l2*np.cos(theta2)\n",
    "    \n",
    "    return x1,y1,x2,y2\n",
    "\n",
    "def ode_solver(time, xInit, method, ndim, par):\n",
    "    # method supports three options\n",
    "    # - 'eular'\n",
    "    # - 'midpoint'\n",
    "    # - 'runge_kutta'\n",
    "    \n",
    "    nstep = len(time)\n",
    "    xout  = np.empty((nstep,ndim))\n",
    "    \n",
    "    hs    = time[1] - time[0]\n",
    "    xtmp  = xInit\n",
    "    f     = [f0, f1, f2, f3]\n",
    "    for i, t in enumerate(time):\n",
    "        xout[i][:] = xtmp\n",
    "        if method  == 'euler':\n",
    "            xtmp   = odeLib.euler(t,xtmp,f,ndim,hs,par)\n",
    "        elif method == 'midpoint':\n",
    "            xtmp   = odeLib.midpoint(t,xtmp,f,ndim,hs,par)\n",
    "        elif method == 'runge_kutta':\n",
    "            xtmp   = odeLib.runge_kutta(t,xtmp,f,ndim,hs,par)\n",
    "\n",
    "    return xout"
   ]
  },
  {
   "cell_type": "code",
   "execution_count": 3,
   "id": "b6bfcb13",
   "metadata": {},
   "outputs": [],
   "source": [
    "def main(l1,l2,m1,m2, xi1,xi2,xi3,xi4, method = \"euler\", plot = True):\n",
    "    \n",
    "    Nt     = 5000\n",
    "    t      = np.linspace(0., 20., Nt)\n",
    "    dt     = t[1] - t[0]\n",
    "    par        = parameters()\n",
    "    par.l1     = l1\n",
    "    par.l2     = l2\n",
    "    par.m1     = m1\n",
    "    par.m2     = m2\n",
    "    \n",
    "    xInit = [radians(xi1), radians(xi2), radians(xi3), radians(xi4)]\n",
    "    \n",
    "    xi     = xInit \n",
    "    x1a    = ode_solver(t, xi, method, ndim, par)\n",
    "\n",
    "    x1,y1,x2,y2 = xy(x1a[:,0],x1a[:,1], par)\n",
    "    \n",
    "    \n",
    "    if plot == True:\n",
    "        fig    = plt.figure(figsize=(6, 15), dpi=100)\n",
    "        plt.subplot(311)\n",
    "        plt.plot(t, x1a[:,0]/pi*180, 'g--',  label=r\"$\\Theta_1$ [deg]\",    linewidth=2.5)\n",
    "        plt.plot(t, x1a[:,1]/pi*180, 'b:',   label=r\"$\\Theta_2$ [deg]\", linewidth=2)\n",
    "\n",
    "        plt.grid()\n",
    "        plt.ylim(-180., 180.)\n",
    "        plt.xlabel(\"Time, $t$\")\n",
    "        plt.ylabel(\"Amplitude, $a$\")\n",
    "        plt.legend()\n",
    "\n",
    "        plt.subplot(312)\n",
    "        plt.plot(x1a[:,0]/pi*180, x1a[:,1]/pi*180, 'g--',    linewidth=2.5)\n",
    "        plt.xlabel(r\"$\\Theta_1$ [deg]\")\n",
    "        plt.ylabel(r\"$\\Theta_2$ [deg]\")    \n",
    "\n",
    "        plt.subplot(313)\n",
    "        plt.plot(x1, y1, 'g--', label='ball1',   linewidth=2.5)\n",
    "        plt.plot(x2, y2, 'k--', label='ball2',   linewidth=2.5)\n",
    "        plt.xlabel(\"x\")\n",
    "        plt.ylabel(\"y\")\n",
    "    else:\n",
    "        fig = None\n",
    "        \n",
    "    return x1, y1, x2, y2, t, dt, fig"
   ]
  },
  {
   "cell_type": "code",
   "execution_count": 4,
   "id": "67550e6b",
   "metadata": {},
   "outputs": [],
   "source": [
    "def animate(i):\n",
    "    # plot one frame of the double pendulum at time step i.\n",
    "    currentx = [0, x1[i], x2[i]]\n",
    "    currenty = [0, y1[i], y2[i]]\n",
    "    \n",
    "    if i == 0:\n",
    "        tracex1.clear()\n",
    "        tracey1.clear()\n",
    "        tracex2.clear()\n",
    "        tracey2.clear()\n",
    "    \n",
    "    tracex1.appendleft(currentx[1])\n",
    "    tracey1.appendleft(currenty[1])\n",
    "    \n",
    "    tracex2.appendleft(currentx[2])\n",
    "    tracey2.appendleft(currenty[2])\n",
    "    \n",
    "    line.set_data(currentx,currenty)\n",
    "    trace1.set_data(tracex1, tracey1)\n",
    "    trace2.set_data(tracex2, tracey2)\n",
    "    time.set_text(\"time = %.1fs\" % (i*dt))\n",
    "    \n",
    "    return line, trace1, trace2, time"
   ]
  },
  {
   "cell_type": "markdown",
   "id": "1d9d6760",
   "metadata": {},
   "source": [
    "# Exercise 1 - small motions\n",
    "For small motions, i.e., the two masses starting at small $\\theta$s, the system is linear. <br>\n",
    "\n",
    "Try fill in small angles in both of the ??s and see what will happen to the two masses. "
   ]
  },
  {
   "cell_type": "code",
   "execution_count": 5,
   "id": "d002bc6c",
   "metadata": {},
   "outputs": [
    {
     "data": {
      "application/vnd.jupyter.widget-view+json": {
       "model_id": "14797bf083a74820bc896dd5dd414f0d",
       "version_major": 2,
       "version_minor": 0
      },
      "text/plain": [
       "interactive(children=(FloatSlider(value=5.0, description='l1', max=10.0, min=0.5, step=0.5), FloatSlider(value…"
      ]
     },
     "metadata": {},
     "output_type": "display_data"
    }
   ],
   "source": [
    "# For small motions, i.e., starting at small theta, the system is linear.\n",
    "w = interactive(main, l1 = (0.5, 10, 0.5), \n",
    "                      l2 = (0.5, 10, 0.5), \n",
    "                      m1 = (0.5, 10, 0.5), \n",
    "                      m2 = (0.5, 10, 0.5),  \n",
    "                      xi1= fixed(10), # initial angular position for the upper mass1 in degrees.\n",
    "                      xi2= fixed(10), # initial angular position for the lower mass2 in degrees.\n",
    "                      xi3= fixed(0),  # initial angular velocity for the upper mass1 in degrees.\n",
    "                      xi4= fixed(0),  # initial angular velocity for the lower mass2 in degrees.\n",
    "                      method = [\"euler\", \"midpoint\", \"runge_kutta\"],\n",
    "                      plot = fixed(True))\n",
    "display(w)"
   ]
  },
  {
   "cell_type": "markdown",
   "id": "13457b82",
   "metadata": {},
   "source": [
    "# Exercise 1 - large motions\n",
    "For large motions, i.e., the two masses starting at large $\\theta$s, the system is chaotic. <br>\n",
    "\n",
    "Try fill in large angles (>90) in any of the ??s and see what will happen to the two masses. "
   ]
  },
  {
   "cell_type": "code",
   "execution_count": 6,
   "id": "4a203c1d",
   "metadata": {},
   "outputs": [
    {
     "data": {
      "application/vnd.jupyter.widget-view+json": {
       "model_id": "d7a30ed63a8248d1900872df5ef48411",
       "version_major": 2,
       "version_minor": 0
      },
      "text/plain": [
       "interactive(children=(FloatSlider(value=5.0, description='l1', max=10.0, min=0.5, step=0.5), FloatSlider(value…"
      ]
     },
     "metadata": {},
     "output_type": "display_data"
    }
   ],
   "source": [
    "# For large motions, i.e., starting at large theta, the system is chaotic.\n",
    "w = interactive(main, l1 = (0.5, 10, 0.5), \n",
    "                      l2 = (0.5, 10, 0.5), \n",
    "                      m1 = (0.5, 10, 0.5), \n",
    "                      m2 = (0.5, 10, 0.5),  \n",
    "                      xi1= fixed(130), # initial angular position for the upper mass1 in degrees.\n",
    "                      xi2= fixed(10), # initial angular position for the lower mass2 in degrees.\n",
    "                      xi3= fixed(0),  # initial angular velocity for the upper mass1 in degrees.\n",
    "                      xi4= fixed(0),  # initial angular velocity for the lower mass2 in degrees.\n",
    "                      method = [\"euler\", \"midpoint\", \"runge_kutta\"],\n",
    "                      plot = fixed(True))\n",
    "display(w)"
   ]
  },
  {
   "cell_type": "code",
   "execution_count": 7,
   "id": "2c022542",
   "metadata": {},
   "outputs": [
    {
     "data": {
      "image/png": "[encoded data removed]",
      "text/plain": [
       "<Figure size 800x600 with 1 Axes>"
      ]
     },
     "metadata": {},
     "output_type": "display_data"
    }
   ],
   "source": [
    "#%matplotlib notebook\n",
    "l1 = 1.\n",
    "l2 = 1.\n",
    "m1 = 1.\n",
    "m2 = 1.\n",
    "xi1 = 120.\n",
    "xi2 = 0.\n",
    "xi3 = 0.\n",
    "xi4 = 0.\n",
    "met = \"runge_kutta\"\n",
    "\n",
    "x1, y1, x2, y2, t, dt, fig = main(l1,l2,m1,m2, xi1,xi2,xi3,xi4, method = met, plot=False)\n",
    "\n",
    "fig  = plt.figure(figsize=(8, 6), dpi=100)\n",
    "fig_limits = (l1+l2)*1.2\n",
    "ax   = fig.add_subplot(xlim=(-fig_limits, fig_limits), ylim=(-fig_limits, fig_limits))\n",
    "ax.set_aspect('equal')\n",
    "ax.grid()\n",
    "fps  = 20\n",
    "hist_len = 500\n",
    "\n",
    "line,   = ax.plot([], [], 'o-', lw=2)\n",
    "trace1, = ax.plot([], [], '.-', lw=1, ms=2)\n",
    "trace2, = ax.plot([], [], '.-', lw=1, ms=2)\n",
    "time    = ax.text(0.05,0.9, '', transform = ax.transAxes)\n",
    "tracex1, tracey1 = deque(maxlen=hist_len), deque(maxlen=hist_len)\n",
    "tracex2, tracey2 = deque(maxlen=hist_len), deque(maxlen=hist_len)\n",
    "\n",
    "anim = animation.FuncAnimation(fig, animate, frames=5000, \n",
    "                               interval=dt/200, \n",
    "                               blit=True)\n",
    "plt.show()"
   ]
  },
  {
   "cell_type": "markdown",
   "id": "3edd6e38",
   "metadata": {},
   "source": [
    "# Last word\n",
    "For the detailed derivation of the solutions and an interactive solutions and visualizations of the double pendulum system, there is a great website tutorial by myPhysicsLab.com https://www.myphysicslab.com/pendulum/double-pendulum-en.html. "
   ]
  }
 ],
 "metadata": {
  "kernelspec": {
   "display_name": "Python [conda env:fenicsx]",
   "language": "python",
   "name": "conda-env-fenicsx-py"
  },
  "language_info": {
   "codemirror_mode": {
    "name": "ipython",
    "version": 3
   },
   "file_extension": ".py",
   "mimetype": "text/x-python",
   "name": "python",
   "nbconvert_exporter": "python",
   "pygments_lexer": "ipython3",
   "version": "3.11.6"
  }
 },
 "nbformat": 4,
 "nbformat_minor": 5
}
