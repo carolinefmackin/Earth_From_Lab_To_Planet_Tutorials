{
 "cells": [
  {
   "cell_type": "markdown",
   "id": "0800114f",
   "metadata": {},
   "source": [
    "# Modeling Ordinary Differential equations (ODEs)\n",
    "\n",
    "This tutorial is a meant to help you learn some basics about ordinary differential equations (ODE) and numerical algorithms to solve them. This can be viewed as a simple way to \"model\" a physical system, i.e. represent reality by a physical and then mathematical abstraction, and explore that construct with analytical or numerical methods. <br>\n",
    "\n",
    "At the end of the toturial, you will have developed your own functions for Euler, Midpoint, and 4th-order Runge-Kutta methods that will be used in the course and your future research. <br>\n",
    "\n",
    "This is not a numerical modeling class, and we mainly focus on what can be learned about the physics from actual and numerical experiments. However, some background is useful. If you are interested in more details, please refer to these lecture notes, for example, __[Numerical Geodynamics: Finite Difference and Finite Element solutions to solid Earth dynamics problems](https://www-udc.ig.utexas.edu/external/becker/Geodynamics557.pdf)__"
   ]
  },
  {
   "cell_type": "markdown",
   "id": "45b66996",
   "metadata": {},
   "source": [
    "# The definition and example of ODEs\n",
    "ODE: an equation that involves the derivative of the function we want to solve for, and that has only one independent variable (otherwise it's a partial differential equation, i.e., PDE).<br>\n",
    "\n",
    "For exmaple, $\\frac{dy}{dx} = f(x)$ can be solved by integration $y=\\int f(x)dx + C$.<br>\n",
    "\n",
    "where $C$ can be determined by additional information, such as a boundary condition on $y$. <br>"
   ]
  },
  {
   "cell_type": "markdown",
   "id": "bd11effa",
   "metadata": {
    "tags": []
   },
   "source": [
    "# The order of an ODE\n",
    "The order of an ODE is determined by the largest number of derivatives invovled, e.g. <br>\n",
    "$\\frac{d^2y}{dx^2} + q(x)\\frac{dy}{dx} = r(x)$ is \"second order\"."
   ]
  },
  {
   "cell_type": "markdown",
   "id": "5bcb28c6-a8b9-413b-ad1e-d052323ca1d7",
   "metadata": {},
   "source": [
    "### Example: The Harmonic Oscillator\n",
    "\n",
    "You derived in class that Hooke's law says that the elastic restoring force is $F = k x$ where $x$ is the displacement, and $k$ the spring constant. If we consider inertia, $F = m a = m \\ddot{x}$, and equal the two, <br>\n",
    "$\n",
    "m \\ddot{x} - k x=0\n",
    "$ \n",
    "is an example of an ODE written in the above form. This ODE has a relatively simple solution\n",
    "\n",
    "$\n",
    "x(t) = A \\cos(\\omega t + \\phi)\\quad\\mathrm{with}\\quad \\omega=\\sqrt{\\frac{k}{m}}\n",
    "$\n",
    "\n",
    "where $\\omega=2\\pi f$ is the angular frequency, $f$ frequency (period $T=1/f$), and $\\phi$ the phase. The derivation of that solution is not hard (we can start by guessing that a harmonic might solve things). \n",
    "These figures illustrate how the motion of the weight is like seeing a wave (the $\\cos$) travel by.\n",
    "<br>\n",
    "<img width=100 src=https://upload.wikimedia.org/wikipedia/commons/d/d5/Animated-mass-spring-faster.gif>\n",
    "<img width=300 src=https://upload.wikimedia.org/wikipedia/commons/7/74/Simple_harmonic_motion_animation.gif>\n",
    "<br>\n",
    "\n",
    "However, here, we are mainly focusing on numerical solutions. For that, it is useful to analytically reduce the complexity of the ODEs."
   ]
  },
  {
   "cell_type": "markdown",
   "id": "96dcaf6d",
   "metadata": {},
   "source": [
    "# Reduce ODEs to sets of first order equations\n",
    "However, we can always reduce ODEs to sets of first order equations. For example, the above equation \n",
    "$\\frac{d^2y}{dx^2} + q(x)\\frac{dy}{dx} = r(x)$\n",
    "can be rewritten as <br>\n",
    "$\\frac{dy}{dx} = z(x)$ <br>\n",
    "$\\frac{dz}{dx} = r(x) - q(x)z(x)$ <br>\n",
    "\n",
    "In general, we can write     $\\frac{dy_i(x)}{dx}  = f_i(x,y,...,y_N)$ <br>\n",
    "for a system of $N$ coupled ODEs, all dependent on the independent variable $x$, which is typically time, $t$. <br>\n",
    "\n",
    "Or in vector form, $\\frac{d\\mathbf{y}}{dx} = \\mathbf{f}(x,\\mathbf{y})$. <br>\n",
    "\n",
    "The actual solutions of ODEs will depend on the types of boundary conditions on $\\mathbf{y}$ and the initial conditions."
   ]
  },
  {
   "cell_type": "markdown",
   "id": "fc9e3ea7-da7a-4b39-a0bc-539836d262fb",
   "metadata": {
    "tags": []
   },
   "source": [
    "# Initial Value Problems\n",
    "In initial value problems, $\\mathbf{y}$ is known for some $x = x_0$, and the system evolves from there \n",
    "to $x_f$ some finite time later.\n",
    "\n",
    "Over the course, you will encounter physical systems governed by different sets of ODEs such as the harmonic oscillator, the double pendulum, two state-variable rate- and state- friction, Lorenz equations as a simplified description of thermal convection in the atmosphere, etc.  \n",
    "\n",
    "Recall that $\\frac{dy}{dx} = f(x)$ can be solved by integration $y=\\int f(x)dx + C$.<br>\n",
    "\n",
    "If we replace $x$ with $t$ and solve the system from $t=t_0$ to $t=t_f$ with initial conditions $y_0=y(t=t_0)$, we get <br>\n",
    "$y(t)=y_0 + \\int_{t_0}^{t_f} f(t,y(t)) dt$.\n",
    "\n",
    "We can break down the integral into $step$ $sizes$ $h$ from $t_i$ to $t_i+h$ with $n=(t_f-t_0)/h$ partial integrals such that we only need to solve <br>\n",
    "$I = \\int_{t_i}^{t_i+h} f(t,y(t)) dt$ <br>\n",
    "as cheaply as possible numerically.\n",
    "\n"
   ]
  },
  {
   "cell_type": "markdown",
   "id": "fc844838",
   "metadata": {},
   "source": [
    "# Numerical solution of ODEs\n",
    "Now we will introduce you three numerical approximations to the partial integral $I$.\n",
    "\n",
    "## Warm-up - basics on functions\n",
    "Before we hop onto solving ODEs, let's introduce some basics on creating functions and passing variables/lists/vectors/functions in Python. <br>\n",
    "\n",
    "In the following cell, we will create a function called evaluate_function, which takes in three inputs - a variable, a list and a vector, makes modifications to them and calls a function \"calcSin\", and return the modified items.  "
   ]
  },
  {
   "cell_type": "code",
   "execution_count": null,
   "id": "47bfe0c1",
   "metadata": {},
   "outputs": [],
   "source": [
    "import numpy as np # load Python package numpy. We will use its functions to create arrays, calculate sine and assign Pi.\n",
    "\n",
    "# We create var, list, vec and func.\n",
    "var0  = 1. * np.pi                  # a variable, Pi.\n",
    "list0 = [\"Apple\", \"Banana\", 5]      # a list that contains three elements, two strings and a number.\n",
    "vec0  = np.array([[1, 2], [3, 4]])  # a two dimensional numpy array for the vector. You may also use a list for simply cases. \n",
    "\n",
    "# define a function \"calcSin\" that calculate the sine of the input. \n",
    "def calcSin(var):      # the sytax is \"def function_name(input1, input2, ...):\". Don't forget \":\".\n",
    "    res = np.sin(var)  # We need an indentation here and in the following lines. \n",
    "    return res\n",
    "\n",
    "print('Before modifications ...')\n",
    "print('var0  is   ', var0)\n",
    "print('list0 is   ', list0)\n",
    "print('vec0  is   ', vec0)\n",
    "print('calcSin(var0) is', calcSin(var0))\n",
    "\n",
    "\n",
    "def evaluate_function(var, list,function): # this function has a function as its argument!\n",
    "    res1   = var**2\n",
    "    res2   = function(var) # If we define the functions we will use beforehand, we can call them, like calcSin, in this function.\n",
    "    list[1] = \"cake\"\n",
    "    return res1,res2\n",
    "\n",
    "[res1a, res2a] = evaluate_function(var0,list0,np.sin)\n",
    "[res1b, res2b] = evaluate_function(var0,list0,np.cos)\n",
    "\n",
    "\n",
    "print('After modifications ...')\n",
    "print('list is', list)\n",
    "print('res1 is   ', res1a,res2a)\n",
    "print('res2 is   ', res1b,res2b)\n",
    "    "
   ]
  },
  {
   "cell_type": "markdown",
   "id": "8c920be9",
   "metadata": {},
   "source": [
    "# The Euler method\n",
    "The simpliest numerical approximation to $I$ is $I = f(t_i, y(t_i)) \\cdot h$ such that $y(t_i+h) = y(t_i) + h \\cdot f(t_i,y(t_i))$. <br> \n",
    "\n",
    "Note: the Euler method is generally not a good idea and if $y$ has some curvature, the Euler scheme will lead to large errors quickly! <br>\n",
    "\n",
    "If you do Taylor expansion to $y(t)$, you will get\n",
    "$y(t) \\approx y(t_0) + (t-t_0) \\cdot \\frac{dy(t_0)}{dt} + \\frac{(t-t_0)^2}{2!} \\cdot \\frac{d^2y(t_0)}{dt^2} + \\frac{(t-t_0)^3}{3!} \\cdot y''' + ...$. <br>\n",
    "\n",
    "For our problem, we get <br>\n",
    "$y(t_i+h) \\approx y(t_i) + h \\cdot f(y(t_0), t_0) + \\frac{h^2}{2} \\cdot \\frac{df}{dt} + ...$ <br>\n",
    "\n",
    "The error of the Euler scheme goes as $O$(\"order of\")($h^2$), and the scheme is therefore, by definition, only accurate to $first$ $order$. It means that tiny time steps would have to be taken for a good solution. "
   ]
  },
  {
   "cell_type": "code",
   "execution_count": null,
   "id": "25452dc2",
   "metadata": {},
   "outputs": [],
   "source": [
    "# Exercise - Could you fill in the missing code part to finish the Euler method function?\n",
    "\n",
    "\n",
    "# Define the function f(x), which takes in vector x at the current time - let's make this simple, and have the derivative only \n",
    "# depend on time, t, such that dx/dt(x,t) = t, and then f(t)=1/2 t^2 +C\n",
    "def fmine(t, x):\n",
    "    return t\n",
    "\n",
    "# Define the Euler function \n",
    "def euler(t, y, f, neq, h):\n",
    "    # The function will take in y at the current time and update and return the y one step size h further according to function fx.\n",
    "    # neq: number of equations in the reduced order ODE system. In this case, neq == 1.\n",
    "    yout=np.zeros(neq)\n",
    "    for i in range(neq):            # Loop over all the equations in the system.\n",
    "        # NOTE: in python, index starts from 0. Therefore, for neq==1, i will start from 0. \n",
    "        # In this case, there is only i==0 in the loop. \n",
    "        # If you want to check value in i, try print it out and uncomment the following line:\n",
    "        # print(i)\n",
    "        yout[i] = y[i] + ??? * f[i](???,???) \n",
    "        # Please fill out the above missing parts ?? to make this function work!\n",
    "    return yout"
   ]
  },
  {
   "cell_type": "code",
   "execution_count": null,
   "id": "5f6cb5e1",
   "metadata": {},
   "outputs": [],
   "source": [
    "# This exercise will update x from x=3 at t=2 and return x at t=2+h. \n",
    "#  according to the function form f(x)=x*x based on the Euler method.\n",
    "neq = 1\n",
    "h   = 0.05\n",
    "t   = 2.     # Note that this is a number\n",
    "y   = [3.]   # Note that this is a list. For what is a List in python, here is some description https://www.w3schools.com/python/python_lists.asp.\n",
    "f   = [fmine]   # If your system contains mulitple equations, we put them all in list f. \n",
    "res = euler(t, y,f, neq, h)\n",
    "\n",
    "print(res)"
   ]
  },
  {
   "cell_type": "markdown",
   "id": "4d519b6d",
   "metadata": {},
   "source": [
    "That is not very helpful on its own, is it? So let us plot the output and make this a bit more intuitive."
   ]
  },
  {
   "cell_type": "code",
   "execution_count": null,
   "id": "84a87479",
   "metadata": {},
   "outputs": [],
   "source": [
    "import matplotlib.pyplot as plt\n",
    "\n",
    "# how many equal timesteps to take?\n",
    "nsteps=21\n",
    "# we only have one dimension\n",
    "ndim=1\n",
    "# this is where we want to end up in the end\n",
    "tmax=3\n",
    "# determine the time stepping from the number of steps (note the -1)\n",
    "dt=tmax/(nsteps-1)\n",
    "# some output\n",
    "print('nsteps, dt',nsteps,dt)\n",
    "\n",
    "tstore=np.zeros(nsteps)\n",
    "ystore=np.zeros([nsteps,ndim])\n",
    "\n",
    "t0=0\n",
    "yinit=2\n",
    "\n",
    "i=0 # init the lop\n",
    "y=[yinit] # initial value, use a list\n",
    "t=t0 # we start at t_0 \n",
    "\n",
    "while(i < nsteps):\n",
    "    tstore[i]=t\n",
    "    ystore[i,:]=y[:]\n",
    "    y = euler(t,y,[fmine],ndim,dt)\n",
    "    t = t+dt\n",
    "    i=i+1\n",
    "    \n",
    "    \n",
    "plt.plot(tstore,ystore[:,0],'o-')\n",
    "plt.ylabel('y')\n",
    "plt.xlabel('time t')\n",
    "plt.show()\n",
    "\n"
   ]
  },
  {
   "cell_type": "markdown",
   "id": "003c4ffd",
   "metadata": {},
   "source": [
    "# The Midpoint method\n",
    "There are a few improvments to the Euler scheme such as the Midpoint method. <br>\n",
    "\n",
    "It first evaluates the derivative of $y$ w.r.t to $t$ at half the Euler step and then advances $y$ by the new slope.\n",
    "\n",
    "$y(t_i+h) = y(t_i) + h \\cdot f(t_i + \\frac{h}{2}, y(t_i) + f(t_i,y_i)\\frac{h}{2})$. <br>\n",
    "\n",
    "Letting $y_{i+1} = y(t_i +h)$ and $y_i = y(t_i)$, we can follow the numerical implementation recipe <br>\n",
    "$k_1 = h \\cdot f(t_i, y_i)$ <br>\n",
    "$k_2 = h \\cdot f(t_i+h/2, y_i+k_1/2)$ <br>\n",
    "$y_{i+1} = y_i + k_2 + O(h^3)$ <br>\n",
    "\n",
    "You can see the method is $second$ $order$ $accurate$. Note that higher accuracy has come at a cost, $f$ now needs to be evaluated twice and once at a $y$ value different from $y_i$, and there are overall more operations per time step. However, since the error is now $O(h^3)$, we can take larger time steps."
   ]
  },
  {
   "cell_type": "code",
   "execution_count": null,
   "id": "1d042d73",
   "metadata": {},
   "outputs": [],
   "source": [
    "# Exercise - Could you fill in the missing code part to finish the Midpoint method function?\n",
    "\n",
    "# Let's reuse the function fx defined above. Recall that if we define a function beforehand, we can use them in later functions.\n",
    "\n",
    "# Define the Midpoint function.\n",
    "def midpoint(t, y, f, neq, h):\n",
    "    # The function will take in y at the current time and update and return the y one step size h further according to function fx.\n",
    "\n",
    "    k1 = np.zeros(neq) \n",
    "    k2 = np.zeros(neq)\n",
    "    yout = np.zeros(neq)\n",
    "    \n",
    "    for i in range(neq):            # Loop over all the equations in the system.\n",
    "        k1[i] = f[i](t,y)*h     \n",
    "    for i in range(neq):   \n",
    "        k2[i] = f[i](????)*????\n",
    "    yout=y+k2\n",
    "    \n",
    "    return yout"
   ]
  },
  {
   "cell_type": "code",
   "execution_count": null,
   "id": "035f5446",
   "metadata": {},
   "outputs": [],
   "source": [
    "# lets compare the step updates\n",
    "\n",
    "y=[yinit]\n",
    "res1 = euler(t0, y, f, neq, h)\n",
    "res2 = midpoint(t0, y, f, neq, h)\n",
    "\n",
    "print(res1,res2)"
   ]
  },
  {
   "cell_type": "markdown",
   "id": "5efb096c",
   "metadata": {},
   "source": [
    "Hmm, OK, but what does that look like graphically, how do those methods compare?"
   ]
  },
  {
   "cell_type": "code",
   "execution_count": null,
   "id": "aff6fd05",
   "metadata": {},
   "outputs": [],
   "source": [
    "nmethod=2\n",
    "# make more room in ystore\n",
    "ystore=np.zeros([nsteps,ndim,nmethod])\n",
    "\n",
    "i=0\n",
    "yinit=2\n",
    "# now we have two solutions\n",
    "ye=[yinit] # initial value, use a list\n",
    "ym=[yinit]\n",
    "t=0\n",
    "\n",
    "while(i < nsteps):\n",
    "    tstore[i]=t\n",
    "    ystore[i,:,0]=ye[:]\n",
    "    ystore[i,:,1]=ym[:]\n",
    "    ye = euler(t,ye,[fmine],ndim,dt)\n",
    "    ym = midpoint(t,ym,[fmine],ndim,dt)\n",
    "    t = t+dt\n",
    "    i=i+1\n",
    "    \n",
    "plt.plot(tstore,ystore[:,:,0],tstore,ystore[:,:,1])\n",
    "plt.legend(['Euler', 'midpoint'])\n",
    "plt.ylabel('y')\n",
    "plt.xlabel('time t')\n",
    "#plt.ylim([0,40])\n",
    "plt.show()\n"
   ]
  },
  {
   "cell_type": "markdown",
   "id": "44136110",
   "metadata": {},
   "source": [
    "Well, which one is better? Which one is correct? \n",
    "\n",
    "Consider that our function's analytical solution can be found by means of integrating \n",
    "\n",
    "$\\frac{dy}{dx} = x$ \n",
    "\n",
    "which is \n",
    "\n",
    "$y=\\frac{1}{2} x^2+c$.\n",
    "\n",
    "Let's compare the analytical solution with the two numerical attempts."
   ]
  },
  {
   "cell_type": "code",
   "execution_count": null,
   "id": "070a35c9",
   "metadata": {},
   "outputs": [],
   "source": [
    "ya = ????\n",
    "\n",
    "plt.plot(????,????,???)\n",
    "plt.legend(['Euler', 'midpoint','analytical'])\n",
    "plt.ylabel('y')\n",
    "plt.xlabel('time t')\n",
    "plt.show()\n"
   ]
  },
  {
   "cell_type": "markdown",
   "id": "4ecceccb",
   "metadata": {},
   "source": [
    "Therefore, even for this simple problem, midpoint is better than Euler."
   ]
  },
  {
   "cell_type": "markdown",
   "id": "28177269",
   "metadata": {},
   "source": [
    "# 4th order Runge-Kutta method\n",
    "\n",
    "You may now wonder how one could improve on the mid point method, and it comes down to a tradeoff between the number of function evolutions and striving for higher polynomial approximations. After a trade-off consideration, at least for smooth function, the *4th order Runge-Kutta method* generally works well. It is 4th order accurate and the recipe is \n",
    "<br>\n",
    "$k1=h \\cdot f(t_i,y_i)$ <br>\n",
    "$k2=h \\cdot f(t_i+h/2, y_i+k_1/2)$ <br>\n",
    "$k3=h \\cdot f(t_i+h/2, y_i+k_2/2)$ <br>\n",
    "$k4=h \\cdot f(t_i+h, y_i + k3) $  <br>\n",
    "$y_{i+1} = y_i + k_1/6 + k_2/3 + k_3/3 + k_4/6 + O(h^5)$ <br>\n",
    "\n",
    "For more details, adaptive step size Runge Kutta and relevant resources, please check out the Numerical Geodynamics lecture notes and reference therein. "
   ]
  },
  {
   "cell_type": "code",
   "execution_count": null,
   "id": "932644b0",
   "metadata": {},
   "outputs": [],
   "source": [
    "# Exercise - implement the 4th order Runge-Kutta method.\n",
    "\n",
    "\n",
    "# Define the 4th order Runge-Kutta function.\n",
    "def rk4(t, y, f, neq, h):\n",
    "    # The function will take in x at the current time and update and return the x one step size h further according to function fx.\n",
    "    k1 = np.zeros(neq) \n",
    "    k2 = np.zeros(neq)\n",
    "    k3 = np.zeros(neq)\n",
    "    k4 = np.zeros(neq)\n",
    "    for i in range(neq):   # Loop over all the equations in the system.\n",
    "        k1[i]=f[i](t    , y   )*h \n",
    "    for i in range(neq): \n",
    "        k2[i]=f[i](t+h/2, y+k1/2)*h\n",
    "    for i in range(neq): \n",
    "        k3[i]=f[i](t+h/2, y+k2/2)*h\n",
    "    for i in range(neq): \n",
    "        k4[i]=f[i](t+h  , y+k3)*h\n",
    "   \n",
    "    yout = y + (k1 + 2*k2 + 2*k3 + k4)/6\n",
    "    return yout"
   ]
  },
  {
   "cell_type": "code",
   "execution_count": null,
   "id": "840912df",
   "metadata": {},
   "outputs": [],
   "source": [
    "y = [yinit]\n",
    "res1 = euler(t0, y, f, neq, h)\n",
    "res2 = midpoint(t0, y, f, neq, h)\n",
    "res3 = rk4(t0,y,f,neq,h)\n",
    "print(res1,res2,res3)\n"
   ]
  },
  {
   "cell_type": "markdown",
   "id": "17211d5e",
   "metadata": {},
   "source": [
    "So this seems to work. But now, let's try something a little more interesting to integrate. \n",
    "\n",
    "Let's use the function \n",
    "\n",
    "$\\frac{y(t,y)}{dt} = y \\sin(t)^2$. \n",
    "\n",
    "This turns out (if in doubt, use __[Wolfram Alpha](https://www.wolframalpha.com/input?i=Solve%5BD%5By%2Ct%5D+%3D+Sin%5Bt%5D**2+y%5D)__ to have the solution \n",
    "\n",
    "$y(t) = c \\exp(\\frac{1}{2}(t -\\sin(t)\\cos(t)))$.\n",
    "\n",
    "Let's check how well our methods compare. "
   ]
  },
  {
   "cell_type": "code",
   "execution_count": null,
   "id": "12999957",
   "metadata": {},
   "outputs": [],
   "source": [
    "def fmine(t, x):\n",
    "    return np.sin(t)**2 * x[0]\n",
    "\n",
    "f=[fmine]\n",
    "nmethod=3\n",
    "nsteps=31\n",
    "\n",
    "\n",
    "tstore=np.zeros(nsteps)\n",
    "ystore=np.zeros([nsteps,ndim,nmethod])\n",
    "\n",
    "tmax=10\n",
    "dt=tmax/(nsteps-1)\n",
    "\n",
    "i=0\n",
    "yinit=1\n",
    "# now we have two solutions\n",
    "ye=[yinit] # initial value, use a list\n",
    "ym=[yinit]\n",
    "yk=[yinit]\n",
    "t=0\n",
    "\n",
    "while(i < nsteps):\n",
    "    tstore[i]=t\n",
    "    ystore[i,:,0]=ye[:]\n",
    "    ystore[i,:,1]=ym[:]\n",
    "    ystore[i,:,2]=yk[:]\n",
    "    ye = euler(t,ye,f,ndim,dt)\n",
    "    ym = midpoint(t,ym,f,ndim,dt)\n",
    "    yk = rk4(t,yk,f,ndim,dt)\n",
    "    t = t+dt\n",
    "    i=i+1\n",
    "    \n",
    "yana = ???\n",
    "\n",
    "plt.plot(tstore,ystore[:,:,0],tstore,ystore[:,:,1],tstore,ystore[:,:,2],tstore,yana,'o')\n",
    "plt.legend(['Euler', 'midpoint','RK4','analytical'])\n",
    "plt.ylabel('y')\n",
    "plt.xlabel('time t')\n",
    "#plt.ylim([0,40])\n",
    "plt.show()"
   ]
  },
  {
   "cell_type": "markdown",
   "id": "e2214b31",
   "metadata": {},
   "source": [
    "# Last word\n",
    "Congratulations! <br>\n",
    "\n",
    "Now you should have learned about ordinary differential equations and have implemented three numerical algorithms to solve them!\n",
    "\n",
    "In the repository, there is a python file - ode.py - that contains the implementation of the three methods. ode.py and its functions will be called by other Jupyter Notebook tutorials in this course. <br> \n",
    "\n",
    "They may look slightly different from what you have implemented here. We hope that differnt implementations may help you understand the methods better and get familiar with Python. Definitely there is always room to improve. <br>\n",
    "\n",
    "Feel free to make your own customized Euler, Midpoint, and 4th order Runge-Kutta functions and put them in a Python file and use them for your later numerical explorations! <br>\n",
    "\n",
    "A tip to use functions defined in standalone python files: To use ode.py, you just need to do \"import ode as odeLib\" before you call any functions in it. If you have another python file named A.py that contains a function named B1. What you want to do is to put A.py in the same folder of your executing python file/Jupyter Notebook, then do \"import A as any_name_you_like\", and call B1 following the syntax any_name_you_like.B1 in the code cell."
   ]
  }
 ],
 "metadata": {
  "kernelspec": {
   "display_name": "Python [conda env:fenicsx]",
   "language": "python",
   "name": "conda-env-fenicsx-py"
  },
  "language_info": {
   "codemirror_mode": {
    "name": "ipython",
    "version": 3
   },
   "file_extension": ".py",
   "mimetype": "text/x-python",
   "name": "python",
   "nbconvert_exporter": "python",
   "pygments_lexer": "ipython3",
   "version": "3.11.6"
  }
 },
 "nbformat": 4,
 "nbformat_minor": 5
}
