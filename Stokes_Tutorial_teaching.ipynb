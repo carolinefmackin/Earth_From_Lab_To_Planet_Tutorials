{
 "cells": [
  {
   "cell_type": "markdown",
   "id": "f667758b-d7dc-4ffa-810c-67c97b58ca3b",
   "metadata": {},
   "source": [
    "# Numerical experiments on the Stokes sinker"
   ]
  },
  {
   "cell_type": "markdown",
   "id": "d788f224-4f8b-4498-8538-f814f6451b78",
   "metadata": {},
   "source": [
    "This tutorial solves the *Stokes equation* numerically. The Stokes equation captures static force equilibrium for a laminar, low Reynolds number fluid. In this case, velocities and pressure within the fluid are entirely controlled by the density and viscosity distribution within the medium and the boundary conditions. The velocity solution is *instantaneous*, that is there is no time-dependence in the force balance (momentum conservation) part of the problem. For real problems, the flow that corresponds to the density anomaly will transport the density anomaly around, hence modifying the flow field over time, but this is only due to the transport, and at each instance, velocities are still in static equilibrium. In particular, there are no effects of inertia for sluggish, laminar flow. This flow regime holds for the mantle, and we will later add the diffusion and advvection of temperature (and hence density anomalies to the problem), leading to *convection*.\n",
    "\n",
    "Here, we focus on the Stokes flow solution part, exploring cases similar to your experiments. Under the hood (the StokesLib.py part) we use a finite element method to solve the equations. This finite element method relies on *discretizing* the medium into little chunks, elements, and the associated mesh will affect the solution. The finer, the better, in general, but also the longer it takes to solve the equation, and the more memory is needed. We start below with some default settings, but you can change the resolution.\n",
    "\n"
   ]
  },
  {
   "cell_type": "markdown",
   "id": "b58dbeb4-699a-4f12-be29-d1eeb3190687",
   "metadata": {},
   "source": [
    "Let's load some packages. In particular, we use the FEniCS package to do the heavy lifting for the finite element part."
   ]
  },
  {
   "cell_type": "code",
   "execution_count": null,
   "id": "be50f293",
   "metadata": {
    "tags": []
   },
   "outputs": [],
   "source": [
    "# loading packages\n",
    "import numpy as np\n",
    "import ufl\n",
    "from dolfinx.fem import (Constant, Function, FunctionSpace, dirichletbc,\n",
    "                         extract_function_spaces, form,\n",
    "                         locate_dofs_topological, locate_dofs_geometrical)\n",
    "from dolfinx.io import XDMFFile\n",
    "from dolfinx.mesh import CellType, create_rectangle, locate_entities_boundary\n",
    "from mpi4py import MPI\n",
    "from petsc4py import PETSc\n",
    "from ufl import div, dx, grad, inner\n",
    "from dolfinx import fem, la\n",
    "from dolfinx.io import gmshio\n",
    "from math import *\n",
    "from dataclasses import dataclass,astuple,asdict # for C-like structure\n",
    "\n",
    "from StokesLib import gmsh_stokes_tutorial, fem_main, block_iterative_solver, describeModel, runScenarioPlot\n",
    "import pyvista\n",
    "from dolfinx import plot\n",
    "\n",
    "import warnings\n",
    "warnings.filterwarnings(\"ignore\")"
   ]
  },
  {
   "cell_type": "markdown",
   "id": "f393ca56-0f85-4601-8e6a-6ed68ef2f9f3",
   "metadata": {},
   "source": [
    "Next, we define a parameter structure which has a large number of settings. Those are all you should have to modify, pretty much. We allow for a 2-D box, with an elliptical inclusion at given depth and orientation, and to set density and viscosity values. Read through those and the comments."
   ]
  },
  {
   "cell_type": "code",
   "execution_count": null,
   "id": "f800fc74-0bcc-4091-86a9-560940547760",
   "metadata": {
    "tags": []
   },
   "outputs": [],
   "source": [
    "# model description: a top rectangle + a bottom rectangle + an elliptical inclusion inside the bottom rectangle.\n",
    "# ---\n",
    "# boundary descriptions:\n",
    "# left boundary  : A\n",
    "# bottom boundary: B\n",
    "# right boundary : C\n",
    "# top boundary   : D\n",
    "# ---\n",
    "# material properties:\n",
    "@dataclass\n",
    "class parameters: \n",
    "    # Adjustable parameters\n",
    "    eta_crust = 1.  # viscosity of the upper block.\n",
    "    eta_mantle = 1.  # viscosity of the bottom block.\n",
    "    eta_inc = 1000.  # viscosity of the elliptical anomaly. \n",
    "\n",
    "    dgrav = 1. # delta gravity anomaly for the ellipse. \n",
    "\n",
    "    # ----------------------------------\n",
    "    # adjustable parameters for the mesh.\n",
    "    dxx = 0.1 # cell size near boundary points.\n",
    "\n",
    "    w = 1.  # width of the model\n",
    "    h_mantle = 0.8  # height of the bottom rectangle\n",
    "    h_crust = 0.2 # heigth of the top rectangle\n",
    "\n",
    "    xe = 0.5;  # x cooridnate of the ellipse center\n",
    "    ye = 0.5; # y coordinate of the ellipse center\n",
    "    # the center of the ellipse is at the center of the bottom rectangle at (xe,ye)=(w/2,h1/2).\n",
    "    ra = 0.1 # a of the ellipse\n",
    "    rb = 0.1 \n",
    "    \n",
    "    rot = 0.5*pi # rotation of the ellipse counterclockwise around its center in radians.\n",
    "\n",
    "    bcs_type  = 1   # please choose the boundary conditions and the options could be expanded. \n",
    "    # 1: free slip for all surfaces A-D;\n",
    "    # 2: free slip for A-C, D free.\n",
    "    # 3: no slip for all A-D.\n",
    "    # 4: no slip for B, fixed velocity for D, no y motion + tao_xy=0 for A and C. "
   ]
  },
  {
   "cell_type": "markdown",
   "id": "03d9d1dd-fab9-47a1-b6f6-b7a5ddabd434",
   "metadata": {},
   "source": [
    "## Now let's go!"
   ]
  },
  {
   "cell_type": "markdown",
   "id": "795661fe-4dc5-4496-aa4a-9cc9555d28ff",
   "metadata": {},
   "source": [
    "## Case 1: a high viscosity spherical density anomaly in a Newtonian fluid\n",
    "\n",
    "NOTE: All adjustable parameters on model geometries, mechanical properties, and boundary conditions could and should be assigned through the data class parameters defined in the code cell above. The names of variables are given in the ()s below.  \n",
    "\n",
    "### Model description: \n",
    "\n",
    "The model domain is 1 X 1 (w X [h_crust + h_mantle]). The thicknesses of the two layers - crust (h_crust) and mantle (h_mantle)- could be assigned, but in this model, we don't differentiate them. That is, there is a single, same viscosity layer.\n",
    "\n",
    "There is a spherical density (dgrav)  anomaly that has a radius of 0.1 (ra and rb for the half major and minor axes of an ellipitical anomaly; set ra = rb = 0.1 for this spherical case) and higher viscosity of 1000 (eta_inc) compared to the reference viscosity of the surroundings (eta_crust and eta_mantle).\n",
    "\n",
    "The x and y coordinantes of the center of the anomaly are xe and ye.  \n",
    " \n",
    "The boundary conditions are free slip, i.e., no flow normal to the boundaries (bcs_type = 1). "
   ]
  },
  {
   "cell_type": "code",
   "execution_count": null,
   "id": "d0660c8d-30c1-4dd3-b0aa-7884754dfe57",
   "metadata": {
    "tags": []
   },
   "outputs": [],
   "source": [
    "par = parameters()\n",
    "par.w, par.h_mantle, par.h_crust = 1, 0.8, 0.2\n",
    "par.xe, par.ye = 0.5, 0.5\n",
    "par.ra, par.rb = 0.1, 0.1\n",
    "par.eta_inc = 1000.\n",
    "par.eta_mantle, par.eta_crust = 1., 1.\n",
    "par.dgrav = 1.\n",
    "par.bcs_type = 1\n",
    "describeModel(par)\n",
    "runScenarioPlot(par, plotStyle='scalar')"
   ]
  },
  {
   "cell_type": "markdown",
   "id": "1410cbb1-9525-4e69-9e5a-890657a6369a",
   "metadata": {},
   "source": [
    "Inspect those solutions in light of your experiments. What do the different velocity components tell you about the flow? What physical processes do they tell you about?"
   ]
  },
  {
   "cell_type": "markdown",
   "id": "f63cc202-1c6e-4524-b6b2-a8d017359640",
   "metadata": {},
   "source": [
    "Now run the same model but show velocities as vectors with mesh. This will make it easier to see what is happening, but a bit harder to read off amplitudes, which si something we need below."
   ]
  },
  {
   "cell_type": "code",
   "execution_count": null,
   "id": "815c87a8-afed-426a-86c0-f016f1af66f6",
   "metadata": {},
   "outputs": [],
   "source": [
    "runScenarioPlot(par, plotStyle='vector')"
   ]
  },
  {
   "cell_type": "markdown",
   "id": "bc13cb4b-d9d2-4634-9aee-eeb5fbc92718",
   "metadata": {},
   "source": [
    "## Case 2: what numerical resolutions should we use?\n",
    "\n",
    "As mentioned, as with all numerical methods, the discretization matters. For finite elements, this mainly means worrying about the mesh that you could see in the plot above. Let us explore how fine the mesh should be, and what mesh size we should be using.\n",
    "\n",
    "Grid size can be adjusted by changing dxx, whose default is 0.1.\n",
    "\n",
    "What happens if you decrease dxx? Which ddx should be use to get a good reading of the solution, within which errors?\n"
   ]
  },
  {
   "cell_type": "code",
   "execution_count": null,
   "id": "55fc3cac-0306-480e-975b-e8427796bfe2",
   "metadata": {},
   "outputs": [],
   "source": [
    "par = parameters()\n",
    "par.dxx = 0.01\n",
    "describeModel(par)\n",
    "runScenarioPlot(par, plotStyle='scalar')"
   ]
  },
  {
   "cell_type": "markdown",
   "id": "d210c8dc-ae61-404c-83e2-0db9ba774610",
   "metadata": {},
   "source": [
    "## Case 3: the effect of boundary conditions. \n",
    "\n",
    "First, let's examine the velocities and pressures for the best solution. \n",
    "\n",
    "What patterns do you observe, for example, where is velocity/pressure highest and lowest? \n",
    "\n",
    "What if we change the boundary condition of the top to free surface? (bcs_type = 2)"
   ]
  },
  {
   "cell_type": "code",
   "execution_count": null,
   "id": "7d9456e1-59d8-4928-a4c7-f0b3b136ca01",
   "metadata": {},
   "outputs": [],
   "source": [
    "par = parameters()\n",
    "par.bcs_type = 2\n",
    "describeModel(par)\n",
    "runScenarioPlot(par, plotStyle='scalar')"
   ]
  },
  {
   "cell_type": "markdown",
   "id": "cd956a30-c881-4e90-bd95-fe48391cea32",
   "metadata": {},
   "source": [
    "And what if we change the boundary conditions to no slip, i.e., zero velocities on all the boundaries. (bcs_type = 3) "
   ]
  },
  {
   "cell_type": "code",
   "execution_count": null,
   "id": "82260a23-8aff-4873-b5aa-73e65b8f83ca",
   "metadata": {},
   "outputs": [],
   "source": [
    "par = parameters()\n",
    "par.bcs_type = 3\n",
    "describeModel(par)\n",
    "runScenarioPlot(par, plotStyle='scalar')"
   ]
  },
  {
   "cell_type": "markdown",
   "id": "024bd0c4-c608-4a59-8ff5-f853f55b6794",
   "metadata": {},
   "source": [
    "## Case 4: verify and determine the scaling relationship between velocities and density anomaly/viscosity\n",
    "\n",
    "Let's go back to the default setup with free slip boundaries. \n",
    "\n",
    "Could you verify that the velocities scale with density anomaly/viscosity? \n",
    "\n",
    "1. Please run models with different $\\Delta\\rho g$ (dgrav) and record how maximum velocity and plot the relationship between the maximum velocity and $\\Delta\\rho g$.\n",
    "\n",
    "2. Please do the same experiments for different viscosities. \n",
    "\n",
    "Take readings off the plots and compare those with the theoretical expectation you derived in the lab with the sinking sphere experiments. \n"
   ]
  },
  {
   "cell_type": "code",
   "execution_count": null,
   "id": "53a7c0ff-53a5-42b5-8dc7-30f99b7cd98b",
   "metadata": {},
   "outputs": [],
   "source": [
    "par = parameters()\n",
    "par.dgrav = 10. # adjust it and record the maximum velocties\n",
    "par.eta_crust, par.eta_mantle, par.eta_inc = 1., 1., 1. # make viscosities homogeneous\n",
    "runScenarioPlot(par, plotStyle='scalar')"
   ]
  },
  {
   "cell_type": "code",
   "execution_count": null,
   "id": "9cccd8ad-a9a4-49cb-98e7-933a9e55e22b",
   "metadata": {},
   "outputs": [],
   "source": [
    "par = parameters()\n",
    "par.eta_inc = 10. # adjust it and record the maximum velocties\n",
    "runScenarioPlot(par, plotStyle='scalar')"
   ]
  },
  {
   "cell_type": "markdown",
   "id": "2651f7e6-59ca-4ff5-849b-6511b7ae752f",
   "metadata": {},
   "source": [
    "Here you are provided with an analytical solution for maximum velocity \n",
    "\n",
    "$v=C[(\\rho_{sphere}-\\rho_{fluid})/\\mu]gR^2$\n",
    "\n",
    "Could you determine the scaling constant $C$ from your experiments? "
   ]
  },
  {
   "cell_type": "markdown",
   "id": "cfca42f2-72f9-4ede-9eb8-011562e270dd",
   "metadata": {},
   "source": [
    "If you change the spheric anomaly to an elliptical one, will the scaling constant change? \n",
    "\n",
    "To get an elliptical anomaly, you can change ra, rb, and rotate the ellipse counterclockwise by setting rot in radians. For example"
   ]
  },
  {
   "cell_type": "code",
   "execution_count": null,
   "id": "ce2a1a59-7883-4bcb-b8cc-f3309cf84860",
   "metadata": {},
   "outputs": [],
   "source": [
    "par = parameters()\n",
    "par.ra, par.rb, par.rot = 0.2, 0.1, 0.3*pi\n",
    "describeModel(par)\n",
    "runScenarioPlot(par, plotStyle='vector')"
   ]
  },
  {
   "cell_type": "markdown",
   "id": "671d86a1-3f85-4415-b209-879e5797787b",
   "metadata": {},
   "source": [
    "What if the sphere is moved up or down? What happens to velocities and pressures?"
   ]
  },
  {
   "cell_type": "code",
   "execution_count": null,
   "id": "0147f9a9-8b50-4717-9642-96becf38988e",
   "metadata": {},
   "outputs": [],
   "source": [
    "par = parameters()\n",
    "par.ye = 0.7 # move the spheric anomaly up or down; please adjust it. NOTE, make sure the sphere is not out of bounds. The function modelGeometryCheck called by describeModel will verify it.\n",
    "describeModel(par)\n",
    "runScenarioPlot(par, plotStyle='vector')"
   ]
  },
  {
   "cell_type": "markdown",
   "id": "8a43b531-5678-48c4-8c48-0b0c66f38882",
   "metadata": {},
   "source": [
    "What if the model domain is enlarged 3 times? Or 5 or 10 times?  \n",
    "\n",
    "How big do you have to make the box so that the sphere does not \"feel\" the boundaries anymore?\n"
   ]
  },
  {
   "cell_type": "code",
   "execution_count": null,
   "id": "526a0043-f80a-47fb-a8eb-4152212128c7",
   "metadata": {},
   "outputs": [],
   "source": [
    "par = parameters()\n",
    "par.w, par.h_crust, par.h_mantle = 3, 0.6, 2.4\n",
    "par.xe, par.ye = 1.5, 1.5\n",
    "describeModel(par)\n",
    "runScenarioPlot(par, plotStyle='scalar')"
   ]
  },
  {
   "cell_type": "markdown",
   "id": "0d40dc6d-ebf8-4bd5-b2ca-8773acb1b10c",
   "metadata": {},
   "source": [
    "## Case 5: the effect of viscosity contrast\n",
    "Now we explore how maximum (or mean) velocities (where) as a function of viscosity contrast between the ellipse and surrounding mantle. \n",
    "\n",
    "Could you change the viscosity of eta_inc to 10,000, 100, 1, 0.01, 0.00001, and record maximum velocities and plot them against eta_inc? Note that the default eta_crust and eta_mantle are 1, and eta_inc of the anomaly is the same as the viscosity contrast. "
   ]
  },
  {
   "cell_type": "code",
   "execution_count": null,
   "id": "0a1f98bd-0073-4af1-ac4b-c38027696f21",
   "metadata": {},
   "outputs": [],
   "source": [
    "par = parameters()\n",
    "par.eta_inc = 0.01 # please adjust it for different viscosity contrast\n",
    "describeModel(par)\n",
    "runScenarioPlot(par, plotStyle='scalar')"
   ]
  },
  {
   "cell_type": "markdown",
   "id": "391b1dbb-5cc3-48b7-9a43-1b51cbe62954",
   "metadata": {},
   "source": [
    "## Case 6: the effect of ellipticity and orientations of the anomaly.\n",
    "\n",
    "Let's change the spheric anomaly to an ellipse of 0.5 by 0.05, and also rotate the ellipse, to see how the velocities and pressures change. "
   ]
  },
  {
   "cell_type": "code",
   "execution_count": null,
   "id": "8844e83a-923d-4afa-aa43-9ee7ba2fd0f3",
   "metadata": {},
   "outputs": [],
   "source": [
    "par = parameters()\n",
    "par.w, par.h_mantle = 1.5, 1.5\n",
    "par.dxx = 0.1\n",
    "par.xe, par.ye = par.w/2, par.h_mantle/2\n",
    "par.ra, par.rb, par.rot = 0.4, 0.1, 0.5*pi\n",
    "describeModel(par)\n",
    "runScenarioPlot(par, plotStyle='scalar')"
   ]
  },
  {
   "cell_type": "code",
   "execution_count": null,
   "id": "ae98f865-a537-4fc9-a3e0-01e07d735bf2",
   "metadata": {},
   "outputs": [],
   "source": []
  }
 ],
 "metadata": {
  "kernelspec": {
   "display_name": "Python [conda env:fenicsx]",
   "language": "python",
   "name": "conda-env-fenicsx-py"
  },
  "language_info": {
   "codemirror_mode": {
    "name": "ipython",
    "version": 3
   },
   "file_extension": ".py",
   "mimetype": "text/x-python",
   "name": "python",
   "nbconvert_exporter": "python",
   "pygments_lexer": "ipython3",
   "version": "3.11.6"
  }
 },
 "nbformat": 4,
 "nbformat_minor": 5
}
