{
 "cells": [
  {
   "cell_type": "markdown",
   "id": "7e2608b1",
   "metadata": {},
   "source": [
    "The notebook demonstrates how to solve a damped harmonic oscillator system governed by the following equation\n",
    "\\begin{align}\n",
    "\\ddot{x} + 2 \\zeta \\omega_0 \\dot{x} + \\omega_0^2  x = f(t)\n",
    "\\end{align}\n",
    "\n",
    "where $x$ is the displacement, $\\dot{x}$ is the velocity, $\\ddot{x}$ is the acceleration, $\\omega_0=\\sqrt(k/m)$ is the angular frequency of the oscillator, $\\zeta=\\dfrac{c}{2\\sqrt(mk)}$ is the damping ratio, $k$ is the stiffness constant, $m$ is the mass, $c$ is the viscous damping coefficient, $f(t)$ is the external excitation force.\n",
    "\n",
    "The tutorial contains functions that use three numerial methods - Euler, Midpoint and Runge-Kutta - and Scipy integrate ODE solver to solve the system. \n",
    "\n",
    "Five exercises are given to help you explore the charateristics of the sysetm.\n",
    "1. simple harmonic oscillator;\n",
    "2. underdamped harmonic oscillator;\n",
    "3. critically damped harmonic oscillator;\n",
    "4. overdamped harmonic oscillator;\n",
    "5. harmonic oscillator driven by sinusoidal external excitation force;"
   ]
  },
  {
   "cell_type": "code",
   "execution_count": null,
   "id": "9c07996c",
   "metadata": {},
   "outputs": [],
   "source": [
    "%pip install -q ipywidgets matplotlib numpy scipy pandas \n",
    "#install packages used by this tutorial.\n",
    "import numpy  as np\n",
    "import pandas as pd\n",
    "import ode    as odeLib        # our self-defined ODE routines in ode.py.\n",
    "import matplotlib.pyplot as plt\n",
    "from   scipy                import integrate\n",
    "from   ipywidgets           import *\n",
    "from   IPython.display      import display"
   ]
  },
  {
   "cell_type": "markdown",
   "id": "4463a89a",
   "metadata": {},
   "source": [
    "Method 1: solve the ODE system with self-defined Euler, Midpoint, and Runge-Kutta methods. The ODE solvers are defined in ode.py that comes along with this repository."
   ]
  },
  {
   "cell_type": "code",
   "execution_count": null,
   "id": "30d47135",
   "metadata": {},
   "outputs": [],
   "source": [
    "#\n",
    "# define probelm\n",
    "#\n",
    "class parameters:                 # parameters for functions, default values\n",
    "    zeta    = 0.1\n",
    "    omega0  = 2.*np.pi*1.0\n",
    "    Fm      = 1.\n",
    "    omegad  = omega0\n",
    "    xInit   = [1., 0.]\n",
    "# \n",
    "# define functions for ODE solvres, need to be in f(t,x,par) format\n",
    "#\n",
    "# damped harmonic oscillator, dx/dt for dotx and x.\n",
    "\n",
    "ndim   = 2\n",
    "vlabel = [\"x\", \"dotx\"]            # labels for the variables\n",
    "def f0(t,x,par):                  # dx/dt      = dotx\n",
    "    return x[1]\n",
    "\n",
    "def f1(t,x,par):                  \n",
    "    # d(dotx)/dt = f - 2*zeta*omega0*dotx - omega0^2*x. \n",
    "    # If with driven sinusoidal force, d(dotx)/dt = f - 2*zeta*omega0*dotx - omega0^2*x + Fm*sin(omegad*t).\n",
    "    zeta   = par.zeta\n",
    "    omega0 = par.omega0\n",
    "    Fm     = par.Fm\n",
    "    omegad = par.omegad\n",
    "    return -2.*zeta*omega0*x[1] - omega0**2*x[0] + Fm*np.sin(omegad*t)\n",
    "\n",
    "def ode_solver(time, method, ndim, par):\n",
    "    # method supports three options\n",
    "    # - 'eular'\n",
    "    # - 'midpoint'\n",
    "    # - 'runge_kutta'\n",
    "    \n",
    "    nstep = len(time)\n",
    "    xout  = np.empty((nstep,ndim))\n",
    "    \n",
    "    hs    = time[1] - time[0]\n",
    "    xtmp  = np.zeros((2))\n",
    "    xtmp[:]  = par.xInit[:]\n",
    "    \n",
    "    f     = [f0, f1]\n",
    "    for i, t in enumerate(time):\n",
    "        xout[i][:] = xtmp\n",
    "        if method  == 'euler':\n",
    "            xtmp   = odeLib.euler(t,xtmp,f,ndim,hs,par)\n",
    "        elif method == 'midpoint':\n",
    "            xtmp   = odeLib.midpoint(t,xtmp,f,ndim,hs,par)\n",
    "        elif method == 'runge_kutta':\n",
    "            xtmp   = odeLib.runge_kutta(t,xtmp,f,ndim,hs,par)\n",
    "    return xout[:, 0]"
   ]
  },
  {
   "cell_type": "markdown",
   "id": "cc7ff7f6",
   "metadata": {},
   "source": [
    "Method 2: sovle the ODE system with the ODE solver in Scipy integrate. "
   ]
  },
  {
   "cell_type": "code",
   "execution_count": null,
   "id": "236116dc",
   "metadata": {},
   "outputs": [],
   "source": [
    "def odeF(X, t, zeta, omega0, Fm, omegad):\n",
    "    \"\"\"\n",
    "    Free Harmonic Oscillator ODE\n",
    "    \"\"\"\n",
    "    x, dotx = X\n",
    "    ddotx = -2*zeta*omega0*dotx - omega0**2*x + Fm*np.sin(omegad*t)\n",
    "    return [dotx, ddotx]\n",
    "\n",
    "def ode_solver_scipy(t, xInit, zeta = 0.05, omega0 = 2.*np.pi, Fm = 0., omegad = 2.*np.pi):\n",
    "\n",
    "    sol     = integrate.odeint(odeF, xInit, t, args = (zeta, omega0, Fm, omegad))\n",
    "    return sol[:, 0]\n"
   ]
  },
  {
   "cell_type": "code",
   "execution_count": null,
   "id": "b6bfcb13",
   "metadata": {},
   "outputs": [],
   "source": [
    "def main(zeta = 0.05, omega0 = 2.*np.pi, Fm = 1., omegad = 2.*np.pi, xInit0 = [1., 0.]):\n",
    "    \n",
    "    Nt     = 1000\n",
    "    t      = np.linspace(0., 10., Nt)\n",
    "\n",
    "    # xInit0: x[0] and dotx[0], initial positions\n",
    "\n",
    "    # set constants for the system\n",
    "    par        = parameters()\n",
    "    par.zeta   = zeta\n",
    "    par.omega0 = omega0\n",
    "    par.Fm     = Fm\n",
    "    par.omegad = omegad\n",
    "    par.xInit  = xInit0 # x[0] and dotx[0]\n",
    "    # Method 1, Euler.\n",
    "    x1a    = ode_solver(t, 'euler',       ndim, par)\n",
    "    print(par.xInit)\n",
    "    # Method 1, Midpoint\n",
    "    x1b    = ode_solver(t, 'midpoint',    ndim, par)\n",
    "\n",
    "    # Method 1, Runge_Kutta\n",
    "    x1c    = ode_solver(t, 'runge_kutta', ndim, par)\n",
    "\n",
    "    # Method 2, Scipy ODE.\n",
    "    x2     = ode_solver_scipy(t, par.xInit, zeta, omega0, par.Fm, par.omegad) # Method 3, scipy\n",
    "    \n",
    "    fig    = plt.figure()\n",
    "\n",
    "    plt.plot(t, x1a, 'k',    label='euler',       linewidth=3)\n",
    "    plt.plot(t, x1b, 'g--',  label='midpoint',    linewidth=2.5)\n",
    "    plt.plot(t, x1c, 'b:',   label='runge_kutta', linewidth=2)\n",
    "    plt.plot(t, x2,  'r:',   label='scipy_ode')\n",
    "    \n",
    "    plt.grid()\n",
    "    plt.ylim(-1., 1.)\n",
    "    plt.xlabel(\"Time, $t$\")\n",
    "    plt.ylabel(\"Amplitude, $a$\")\n",
    "    plt.legend()\n",
    "    \n",
    "    return fig"
   ]
  },
  {
   "cell_type": "code",
   "execution_count": null,
   "id": "9de92831",
   "metadata": {},
   "outputs": [],
   "source": [
    "# Exercise 1 - simple harmonic oscillator\n",
    "fig1 = main(zeta = 0.0, omega0 = 2.*np.pi, Fm = 0.0, omegad = 2.*np.pi, xInit0 = [1., 0.])"
   ]
  },
  {
   "cell_type": "code",
   "execution_count": null,
   "id": "233c44f2",
   "metadata": {},
   "outputs": [],
   "source": [
    "# Exercise 2 - damped harmonic oscillator - underdamped\n",
    "fig2 = main(zeta = 0.05, omega0 = 2.*np.pi, Fm = 0.0, omegad = 2.*np.pi, xInit0 = [1., 0.])"
   ]
  },
  {
   "cell_type": "code",
   "execution_count": null,
   "id": "f3995089",
   "metadata": {},
   "outputs": [],
   "source": [
    "# Exercise 3 - damped harmonic oscillator - criticallly damped \n",
    "fig3 = main(zeta = 1., omega0 = 2.*np.pi, Fm = 0.0, omegad = 2.*np.pi, xInit0 = [1., 0.])"
   ]
  },
  {
   "cell_type": "code",
   "execution_count": null,
   "id": "910eb18f",
   "metadata": {},
   "outputs": [],
   "source": [
    "# Exercise 4 - damped harmonic oscillator - overdamped\n",
    "fig4 = main(zeta = 2., omega0 = 2.*np.pi, Fm = 0.0, omegad = 2.*np.pi, xInit0 = [1., 0.])"
   ]
  },
  {
   "cell_type": "code",
   "execution_count": null,
   "id": "30df2a49",
   "metadata": {},
   "outputs": [],
   "source": [
    "# Exercise 5 - driven harmonic oscillator\n",
    "fig5 = main(zeta = 0.05, omega0 = 2.*np.pi, Fm = 1.0, omegad = 2.*np.pi, xInit0 = [0., 0.])"
   ]
  },
  {
   "cell_type": "markdown",
   "id": "4da2b8d5",
   "metadata": {},
   "source": [
    "To disable auto-scrolling of the results, click the left bar of the figure cell or right-click the figure cell to choose 'disable auto-scrolling outputs'."
   ]
  },
  {
   "cell_type": "code",
   "execution_count": null,
   "id": "d002bc6c",
   "metadata": {
    "scrolled": false
   },
   "outputs": [],
   "source": [
    "w = interactive(main, \n",
    "                zeta   = (0., 1., 0.01), \n",
    "                omega0 = (2.*np.pi*0.05, 2.*np.pi*5., 2.*np.pi*0.01),\n",
    "                Fm     = fixed(1.),\n",
    "                omegad = fixed(2.*np.pi),\n",
    "                xInit0 = fixed([0.,0.]))\n",
    "display(w)"
   ]
  },
  {
   "cell_type": "code",
   "execution_count": null,
   "id": "76638f23",
   "metadata": {},
   "outputs": [],
   "source": []
  }
 ],
 "metadata": {
  "kernelspec": {
   "display_name": "Python 3 (ipykernel)",
   "language": "python",
   "name": "python3"
  },
  "language_info": {
   "codemirror_mode": {
    "name": "ipython",
    "version": 3
   },
   "file_extension": ".py",
   "mimetype": "text/x-python",
   "name": "python",
   "nbconvert_exporter": "python",
   "pygments_lexer": "ipython3",
   "version": "3.9.13"
  }
 },
 "nbformat": 4,
 "nbformat_minor": 5
}
