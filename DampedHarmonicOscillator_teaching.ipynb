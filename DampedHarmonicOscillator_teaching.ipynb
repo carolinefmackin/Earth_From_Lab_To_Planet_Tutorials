{
 "cells": [
  {
   "cell_type": "markdown",
   "id": "7e2608b1",
   "metadata": {},
   "source": [
    "# Damped Harmonic Oscillator\n",
    "\n",
    "The notebook demonstrates how to solve a damped harmonic oscillator driven by a force $F$ as governed by the following equation\n",
    "\\begin{align}\n",
    "\\ddot{x} + 2 \\zeta \\omega \\dot{x} + \\omega^2  x = F(t),\n",
    "\\end{align}\n",
    "\n",
    "where $x$ is the displacement, $\\dot{x}$ is the velocity, $\\ddot{x}$ is the acceleration, $\\omega=\\sqrt{\\frac{k}{m}}$ is the angular frequency of the oscillator, $\\zeta=\\frac{c}{2\\sqrt{mk}}$ is the damping ratio, $F(t)$ is the external excitation force, with spring stiffness $k$ and mass $m$. This is a more complicated, but also more complete version of the model for oscillating sptring that we were considering in the last exercise, and wrote as\n",
    "$m \\ddot{x} + k x=0$.\n",
    "\n",
    "We can define $y=\\dot{x}$ so that the ODE equations to be solved are\n",
    "1. $\\dot{x} = y$, and \n",
    "2. $\\dot{y} = F(t)-2\\zeta\\omega y -\\omega^2x$.\n",
    "\n",
    "We will also assume that $F(t) = F_m \\sin(\\omega_d t)$.\n",
    "\n",
    "The tutorial contains functions that use three numerial methods - Euler, Midpoint and Runge-Kutta - and Scipy integrate ODE solver to solve the system. \n",
    "\n",
    "Five exercises are given to help you explore the charateristics of the sysetm.\n",
    "1. simple harmonic oscillator;\n",
    "2. underdamped harmonic oscillator;\n",
    "3. critically damped harmonic oscillator;\n",
    "4. overdamped harmonic oscillator;\n",
    "5. harmonic oscillator driven by sinusoidal external excitation force;"
   ]
  },
  {
   "cell_type": "markdown",
   "id": "7a8f3bd2",
   "metadata": {},
   "source": [
    "# Warm-up\n",
    "Could you derive the expressions of $\\omega_0$ and $\\zeta$ in terms of $k$, $m$, and $c$, where $k$ is the stiffness constant, $m$ is the mass, $c$ is the viscous damping coefficient."
   ]
  },
  {
   "cell_type": "code",
   "execution_count": null,
   "id": "9c07996c",
   "metadata": {},
   "outputs": [],
   "source": [
    "%pip install -q ipywidgets matplotlib numpy scipy pandas \n",
    "#install packages used by this tutorial.\n",
    "import numpy  as np\n",
    "import pandas as pd\n",
    "import ode    as odeLib        # our self-defined ODE routines in ode.py.\n",
    "import matplotlib.pyplot as plt\n",
    "from dataclasses import dataclass,astuple,asdict # for C-like structure\n",
    "from   scipy                import integrate\n",
    "from   ipywidgets           import *\n",
    "from   IPython.display      import display"
   ]
  },
  {
   "cell_type": "markdown",
   "id": "4463a89a",
   "metadata": {},
   "source": [
    "# Method 1\n",
    "Solve the ODE system with self-defined Euler, Midpoint, and Runge-Kutta methods. The ODE solvers are defined in ode.py that comes along with this repository."
   ]
  },
  {
   "cell_type": "code",
   "execution_count": null,
   "id": "30d47135",
   "metadata": {},
   "outputs": [],
   "source": [
    "#\n",
    "# define problem\n",
    "#\n",
    "# we now use a classs to collect all parameter for the ODE function\n",
    "@dataclass\n",
    "class parameters:                 # parameters for functions, default values\n",
    "    zeta   :float  = 0\n",
    "    omega  :float = 2.*np.pi*1.0\n",
    "    Fm     :float  = 0\n",
    "    omegad :float = omega\n",
    "    ndim   :int  = 2\n",
    "    \n",
    "# \n",
    "# define functions for ODE solvers, need to be in f(t,x,par) format\n",
    "#\n",
    "# damped harmonic oscillator, dx/dt for dotx and x.\n",
    "\n",
    "\n",
    "def f0(t,x,par):                  # dx/dt      = y\n",
    "    return x[1]\n",
    "\n",
    "def f1(t,x,par):                  \n",
    "    # If with driven sinusoidal force, d^2 x/ dt^2 = dy/dt = f - 2*zeta*omega*dotx - omega^2*x + Fm*sin(omegad*t).\n",
    "   \n",
    "    return par.Fm*np.sin(par.omegad*t) -2.*par.zeta*par.omega*x[1] - par.omega**2*x[0] \n",
    "\n",
    "def ode_solver(xinit, time, method, par):\n",
    "    # method supports three options\n",
    "    # - 'euler'\n",
    "    # - 'midpoint'\n",
    "    # - 'runge_kutta'\n",
    "    \n",
    "    nstep = len(time)\n",
    "    xout  = np.empty((nstep,par.ndim))\n",
    "    \n",
    "    hs    = time[1] - time[0]\n",
    "    \n",
    "    # important! here, we need to make a copy, we do not want to override anything in xinit, EVER\n",
    "    # this is nicer but did not work with the interactive code\n",
    "    #xtmp = xinit.copy()\n",
    "    xtmp = np.empty(np.shape(xinit))\n",
    "    for i in range(par.ndim):\n",
    "        xtmp[i] = xinit[i]\n",
    "    \n",
    "    f     = [f0, f1]\n",
    "    for i, t in enumerate(time):\n",
    "        xout[i][:] = xtmp\n",
    "        if method  == 'euler':\n",
    "            xtmp   = odeLib.euler(t,xtmp,f,par.ndim,hs,par)\n",
    "        elif method == 'midpoint':\n",
    "            xtmp   = odeLib.midpoint(t,xtmp,f,par.ndim,hs,par)\n",
    "        elif method == 'runge_kutta':\n",
    "            xtmp   = odeLib.runge_kutta(t,xtmp,f,par.ndim,hs,par)\n",
    "    return xout"
   ]
  },
  {
   "cell_type": "markdown",
   "id": "cc7ff7f6",
   "metadata": {},
   "source": [
    "# Method 2\n",
    "Sovle the ODE system with the ODE solver in Scipy integrate. "
   ]
  },
  {
   "cell_type": "code",
   "execution_count": null,
   "id": "236116dc",
   "metadata": {},
   "outputs": [],
   "source": [
    "#\n",
    "# we need to redefine the call for argument lists\n",
    "#\n",
    "def dxdt(x, t, zeta,omega,Fm,omegad,ndim): # swap order for scipy and use a tupel of arguments\n",
    "    f0 = x[1]\n",
    "    f1 = Fm*np.sin(omegad*t) -2.*zeta*omega*x[1] - omega**2*x[0] \n",
    "    return [f0, f1]\n",
    "\n",
    "def ode_solver_scipy(xInit,t, par):\n",
    "    #print(astuple(par))\n",
    "    # this is ugly, but we cannot pass a class??!\n",
    "    sol     = integrate.odeint(dxdt, xInit, t, astuple(par), rtol=1e-8)\n",
    "    #print(np.shape(sol))\n",
    "    return sol\n"
   ]
  },
  {
   "cell_type": "markdown",
   "id": "8da76a51",
   "metadata": {},
   "source": [
    "# General driver routine\n",
    "This is a routine we will reuse for plotting and doing numerical experiments."
   ]
  },
  {
   "cell_type": "code",
   "execution_count": null,
   "id": "b6bfcb13",
   "metadata": {},
   "outputs": [],
   "source": [
    "def driver(zeta = 0, omega = 1.*np.pi, Fm = 0, omegad = 2.*np.pi, xInit0 = [1., 0.], \n",
    "           method = 'euler', plot_feature=['k',2], tmax = 10, nsteps = 100, plabel = None):\n",
    "    \n",
    "    err = False\n",
    "    \n",
    "    # method: currently support four - 'euler', 'midpoint', 'runge_kutta', 'scipy'.\n",
    "    # plot_feature: first param - line color; second param - line thickness.\n",
    "    \n",
    "    t      = np.linspace(0., tmax, nsteps)\n",
    "    \n",
    "    # set constants for the system\n",
    "    par        = parameters()\n",
    "    par.zeta   = zeta\n",
    "    par.omega =  omega\n",
    "    par.Fm     = Fm\n",
    "    par.omegad = omegad\n",
    "    \n",
    "    if   ((method == 'euler')or(method=='midpoint')or(method==\"runge_kutta\")):\n",
    "        x    = ode_solver(xInit0,t, method, par)\n",
    "    elif method == 'scipy':\n",
    "        x    = ode_solver_scipy(xInit0,t, par) \n",
    "    else:\n",
    "        print('error, method', method, ' not define')\n",
    "        return False,0\n",
    "    \n",
    "    maxA       = np.max(abs(x))\n",
    "    \n",
    "    if(plabel):\n",
    "        plot_label = plabel\n",
    "    else:\n",
    "        plot_label=method\n",
    "    plt.plot(t, x[:,0], plot_feature[0], label=plot_label, linewidth=plot_feature[1])\n",
    "    plt.grid()\n",
    "    #plt.ylim(-1., 1.)\n",
    "    plt.xlabel(\"time, $t$\")\n",
    "    plt.ylabel(\"displacement, $x$\")\n",
    "    plt.legend()\n",
    "    \n",
    "    err = True\n",
    "    return err, maxA"
   ]
  },
  {
   "cell_type": "markdown",
   "id": "d31f9a7d",
   "metadata": {},
   "source": [
    "# Exercise 1\n",
    "Simple harmonic oscillator. This example has no driving force, and compares the different solution methods."
   ]
  },
  {
   "cell_type": "code",
   "execution_count": null,
   "id": "9de92831",
   "metadata": {},
   "outputs": [],
   "source": [
    "fig    = plt.figure()\n",
    "omega  = 1*np.pi;zeta=0;\n",
    "omegad=omega;F=0\n",
    "\n",
    "xinit= [2.,0.]\n",
    "\n",
    "driver(zeta, omega,F,omegad,xinit, method = 'euler',    plot_feature = ['k',2])\n",
    "driver(zeta, omega,F,omegad,xinit, method = 'midpoint', plot_feature = ['r-',2])\n",
    "\n"
   ]
  },
  {
   "cell_type": "markdown",
   "id": "e885410b-803e-49fd-b239-bf5546de349b",
   "metadata": {},
   "source": [
    "Comment on the difference in solution, and verify the results from your experiments. Can you use this setup, or modifications thereof to approximate your experimental results?"
   ]
  },
  {
   "cell_type": "markdown",
   "id": "8a421b69",
   "metadata": {},
   "source": [
    "# Exercise 2 \n",
    "Damped harmonic oscillator. Now introduce some damping, and compare the mid point and Runge Kutta methods, for example."
   ]
  },
  {
   "cell_type": "code",
   "execution_count": null,
   "id": "233c44f2",
   "metadata": {},
   "outputs": [],
   "source": [
    "fig    = plt.figure()\n",
    "\n",
    "????\n",
    "\n",
    "driver(zeta, omega,F,omegad,xinit, method = '???',    plot_feature = ['k',2])\n",
    "driver(zeta, omega,F,omegad,xinit, method = '???', plot_feature = ['r-',2])\n"
   ]
  },
  {
   "cell_type": "markdown",
   "id": "86312754",
   "metadata": {},
   "source": [
    "# Exercise 3\n",
    "\n",
    "Critically damped harmonic oscillator. Let us switch to the built-in scipy ODE solver, and now explore different damping values, between 0.1, 0.5, 1, and 1.5.\n"
   ]
  },
  {
   "cell_type": "code",
   "execution_count": null,
   "id": "f3995089",
   "metadata": {},
   "outputs": [],
   "source": [
    "fig = plt.figure()\n",
    "\n",
    "zeta=???\n",
    "driver(zeta, omega,F,omegad,xinit, method = 'scipy', plot_feature = ['r-',2],tmax=3,plabel=\"critical damping\")\n"
   ]
  },
  {
   "cell_type": "markdown",
   "id": "d16dddc0",
   "metadata": {},
   "source": [
    "# Exercise 4 \n",
    "Overdamped harmonic oscillator"
   ]
  },
  {
   "cell_type": "code",
   "execution_count": null,
   "id": "910eb18f",
   "metadata": {},
   "outputs": [],
   "source": [
    "fig = plt.figure()\n",
    "zeta=????\n",
    "driver(zeta, omega,F,omegad,xinit, method = 'scipy', plot_feature = ['r-',2],tmax=3,plabel=\"overdamped\")"
   ]
  },
  {
   "cell_type": "markdown",
   "id": "6d79b63f",
   "metadata": {},
   "source": [
    "# Exercise 5 \n",
    "Driven harmonic oscillator. <br>\n",
    "\n",
    "Switch on the driving force and experiment. \n",
    "\n",
    "Here are a few scenarios to explore. <br>\n",
    "What happens to the freqeuncies if you change the driving amplitudes? <br>\n",
    "What happens to the peak amplitudes if you change the ratio of driving frequencies to the oscillator angular frequency? <br>"
   ]
  },
  {
   "cell_type": "code",
   "execution_count": null,
   "id": "30df2a49",
   "metadata": {},
   "outputs": [],
   "source": [
    "zeta = ???;\n",
    "????;\n",
    "\n",
    "driver(zeta, omega,F,??,xinit, method = 'scipy', plot_feature = ['r-',2],plabel=\"???\", ????)\n",
    "driver(zeta, omega,F,??,xinit, method = 'scipy', plot_feature = ['r-',2],plabel=\"???\", ????)\n"
   ]
  },
  {
   "cell_type": "markdown",
   "id": "4da2b8d5",
   "metadata": {},
   "source": [
    "# Interactive plot\n",
    "The following cell block provides an interactive plot for wide ranges of parameters. (NOTE: to disable auto-scrolling of the results, click the left bar of the figure cell or right-click the figure cell to choose 'disable auto-scrolling outputs'.)"
   ]
  },
  {
   "cell_type": "code",
   "execution_count": null,
   "id": "d002bc6c",
   "metadata": {
    "tags": []
   },
   "outputs": [],
   "source": [
    "    \n",
    "# def driver(zeta = 0, omega = 2.*np.pi, Fm = 0, omegad = 2.*np.pi, xInit0 = [1., 0.], \n",
    "#           method = 'euler', plot_feature=['k',2], tmax = 10, nsteps = 100, plabel = None):\n",
    "\n",
    "w = interactive(driver, \n",
    "                zeta   = (0., .3, 0.01), \n",
    "                omega  = fixed(1*np.pi),\n",
    "                Fm     = fixed(1.),\n",
    "                omegad = (np.pi*0.01, np.pi*2., 0.01),\n",
    "                method = fixed('scipy'), \n",
    "                xInit0 = fixed([1,0]),\n",
    "                plot_feature = fixed(['b-',2]),\n",
    "                tmax = fixed(75),\n",
    "                nsteps = fixed(5000),\n",
    "                plabel = fixed(None)\n",
    "               )\n",
    "display(w)"
   ]
  }
 ],
 "metadata": {
  "kernelspec": {
   "display_name": "Python [conda env:fenicsx]",
   "language": "python",
   "name": "conda-env-fenicsx-py"
  },
  "language_info": {
   "codemirror_mode": {
    "name": "ipython",
    "version": 3
   },
   "file_extension": ".py",
   "mimetype": "text/x-python",
   "name": "python",
   "nbconvert_exporter": "python",
   "pygments_lexer": "ipython3",
   "version": "3.11.6"
  }
 },
 "nbformat": 4,
 "nbformat_minor": 5
}
