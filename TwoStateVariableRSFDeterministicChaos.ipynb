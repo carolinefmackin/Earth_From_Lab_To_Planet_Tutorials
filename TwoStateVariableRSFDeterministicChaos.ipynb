{
 "cells": [
  {
   "cell_type": "markdown",
   "id": "091bc0de-e68b-4246-a4d9-d7c94ee3320f",
   "metadata": {},
   "source": [
    "# Two-state variable rate-state friction"
   ]
  },
  {
   "cell_type": "markdown",
   "id": "ba21cbb0-7357-4409-acb5-bee319569b48",
   "metadata": {},
   "source": [
    "Experiments indicate that friction can often not be captured by a single state variable, implying that something besides contact area evolves besides the general velocity dependence of friction. Such behavior may be captured by a second state variable with another evolution law, and may capture small-scale physics like dilatancy. When coupled with a spring slider, the resulting ODEs are now three-dimensional, which makes the possible system behavior much more interesting. Some analysis is provided in \n",
    "<ul>\n",
    "    <li><a href=https://www-udc.ig.utexas.edu/external/becker/preprints/becker_chaos99.pdf>Becker, T. W.: Deterministic Chaos in two State-variable Friction Sliders and the Effect of Elastic Interactions. In GeoComplexity and the Physics of Earthquakes, J. B. Rundle, D. L. Turcotte, and W. Klein, eds., doi:10.1029/GM120p0005, 5-26, AGU, Washington D. C., 2000.</a>\n",
    "</ul>\n",
    "to which we will refer here.         "
   ]
  },
  {
   "cell_type": "markdown",
   "id": "1dc4a19e-7417-41f9-98b4-06b268d46fe5",
   "metadata": {},
   "source": [
    "import numpy    as     np\n",
    "import matplotlib.pyplot as plt\n",
    "from   scipy import integrate\n",
    "from dataclasses import dataclass,astuple,asdict # for C-like structure"
   ]
  },
  {
   "cell_type": "markdown",
   "id": "0bef8448",
   "metadata": {},
   "source": [
    "The governing equations of a spring-slider system goverend by the rate- and state- friction with two state variables are described in Becker (2000) equations 1-3:\n",
    "\\begin{align}\n",
    "\\frac{d x}{dT} &= e^x (-\\kappa + y + \\lambda x) + \\kappa v'_l  \\\\\n",
    "\\frac{d y}{dT} &= \\kappa (v'_l - e^x) \\\\\n",
    "\\frac{d v_l}{dT} &= v'_l\\\\\n",
    "\\end{align}\n",
    "with \n",
    "$\n",
    "x = \\ln\\left(\\frac{v}{v_0}\\right),\n",
    "$\n",
    "and\n",
    "$\n",
    "y = \\frac{\\tau - \\tau_0}{a},\n",
    "$\n",
    "the non-dimensionalized sliding velocity and friction, respectively. \n",
    "\n",
    "If we set $v_l = v_0$, then and allow for two state variables, $\\theta_1$ and $\\theta_2$, we can write\n",
    "\\begin{align}\n",
    "\\dot x =& e^x ((\\beta_1 - 1) x + y -z) + \\dot y - \\dot z \\\\\n",
    "\\dot y =& (1 - e^x) \\kappa \\\\\n",
    "\\dot z =& -e^x \\rho (\\beta_2 x + z)\n",
    "\\end{align}\n",
    "\n",
    "where we now have a bunch more parameters \n",
    "\\begin{align}\n",
    "\\beta_i =& b_i/a \\\\\n",
    "\\kappa =& KD_c^1/a \\\\\n",
    "z =&\\beta_2 ln(V_* \\theta_2 / D_c^2) \\\\\n",
    "\\rho = &D_c^1 / D_c^2 \\\\\n",
    "T =& V_0 t / D_c^1 \n",
    "\\end{align}\n",
    "\n",
    "It also turns out that the new critical stiffness for this system is a complicated combination of the parameters\n",
    "\n",
    "$\n",
    "\\kappa_c = \n",
    "\\frac{\n",
    "\\kappa_c^0 + \\rho(2\\beta_1 + (\\beta_2 - 1)(2+\\rho))+\\sqrt{4\\rho^2(\\kappa_c^0+\\beta_2)+(\\kappa_c^0+\\rho^2(\\beta_2-1))^2}}\n",
    "    {2+ 2\\rho}\n",
    "$\n",
    "where, from before,\n",
    "$\n",
    "\\kappa_c^0 = \\beta-1\n",
    "$ "
   ]
  },
  {
   "cell_type": "markdown",
   "id": "50bc769e",
   "metadata": {},
   "source": [
    "Let's define the parameter structure and a function computing $\\kappa_c$."
   ]
  },
  {
   "cell_type": "code",
   "execution_count": 1,
   "id": "e0ed5701",
   "metadata": {},
   "outputs": [],
   "source": [
    "from dataclasses import dataclass, astuple\n",
    "import numpy as np\n",
    "from scipy import integrate\n",
    "import matplotlib.matplot as plt\n",
    "@dataclass\n",
    "class parameters:\n",
    "    beta1 :float     = 1.\n",
    "    beta2 :float     = 0.84\n",
    "    rho   :float     = 0.048\n",
    "    kappa :float     = 1\n",
    "\n",
    "def calcKappac(kappaPrime, par):\n",
    "    beta1    = par.beta1\n",
    "    beta2    = par.beta2\n",
    "    rho      = par.rho\n",
    "    kappaCr1 = beta1 - 1.\n",
    "    kappaCr2 = (kappaCr1 + rho*(2*beta1 + (beta2 - 1.)*(2.+rho)) + \\\n",
    "                (4*rho**2*(kappaCr1 + beta2) + (kappaCr1 + rho**2*(beta2 - 1.)**2))**0.5) \n",
    "    kappaCr2 = kappaCr2/(2. + 2.*rho) # eq 10 in Becker (2000).\n",
    "    kappa    = kappaCr2 * kappaPrime\n",
    "    return kappa"
   ]
  },
  {
   "cell_type": "markdown",
   "id": "410f3067",
   "metadata": {},
   "source": [
    "Let's define the ODEs."
   ]
  },
  {
   "cell_type": "code",
   "execution_count": 2,
   "id": "1ff98af7",
   "metadata": {},
   "outputs": [],
   "source": [
    "# define the ODEs for the system.\n",
    "def dxdt(x,t,beta1,beta2,rho,kappa):\n",
    "    exp_x  = np.exp(x[0])\n",
    "    f1 = (1. - exp_x) * kappa # \\dot{y}\n",
    "    f2 = -exp_x * rho * (beta2 * x[0] + x[2]) #\\dot{z}\n",
    "    f0 =  exp_x*((beta1 - 1.)*x[0] + x[1] - x[2]) + f1 - f2 # \\dot{x} \n",
    "    return [f0,f1,f2]\n",
    "def ode_solver_scipy(xInit,t, par):\n",
    "    sol     = integrate.odeint(dxdt, xInit, t, astuple(par), rtol=1e-16)\n",
    "    return sol"
   ]
  },
  {
   "cell_type": "markdown",
   "id": "abb50c8a",
   "metadata": {},
   "source": [
    "We want to test different $\\kappa' = \\kappa/\\kappa_c$ values, so let's define a driver function."
   ]
  },
  {
   "cell_type": "code",
   "execution_count": 3,
   "id": "d961bd98",
   "metadata": {},
   "outputs": [],
   "source": [
    "# driver function, provide kappa', in multiples of critical kappa\n",
    "def main(kappaPrime, T1, Tshow, dt, plot = True):\n",
    "    par      = parameters()\n",
    "    t        = np.linspace(0, T, Nt)\n",
    "    \n",
    "    par.kappa= calcKappac(kappaPrime, par) # convert kappa' to actual kappa\n",
    "    xInit    = [0.05, 0., 0.] # Figure 2 in Becker (2000).\n",
    "    sol      = ode_solver_scipy(xInit,t,par)\n",
    "    \n",
    "    if plot == True:\n",
    "        \n",
    "        Nt1   = int(T1/dt)\n",
    "        fig   = plt.figure()\n",
    "        ax    = plt.axes(projection='3d')\n",
    "        pind = range(Nt1,Nt,1)\n",
    "        ax.plot3D(sol[pind,0], sol[pind,1], sol[pind,2])   \n",
    "        ax.grid()\n",
    "        ax.set_xlabel('x')\n",
    "        ax.set_ylabel('y')\n",
    "        ax.set_zlabel('z')\n",
    "        plt.show()\n",
    "        \n",
    "        \n",
    "    return sol"
   ]
  },
  {
   "cell_type": "code",
   "execution_count": 4,
   "id": "528a2ab6",
   "metadata": {},
   "outputs": [
    {
     "ename": "NameError",
     "evalue": "name 'plt' is not defined",
     "output_type": "error",
     "traceback": [
      "\u001b[0;31m---------------------------------------------------------------------------\u001b[0m",
      "\u001b[0;31mNameError\u001b[0m                                 Traceback (most recent call last)",
      "Cell \u001b[0;32mIn[4], line 26\u001b[0m\n\u001b[1;32m     22\u001b[0m \u001b[38;5;66;03m#kappaPrime = 0.8534\u001b[39;00m\n\u001b[1;32m     23\u001b[0m res[:,:,\u001b[38;5;241m3\u001b[39m]  \u001b[38;5;241m=\u001b[39m main(kappaPrime, T1, Tshow, dt, plot\u001b[38;5;241m=\u001b[39m\u001b[38;5;28;01mFalse\u001b[39;00m)\n\u001b[0;32m---> 26\u001b[0m fig       \u001b[38;5;241m=\u001b[39m plt\u001b[38;5;241m.\u001b[39mfigure(figsize\u001b[38;5;241m=\u001b[39m(\u001b[38;5;241m12\u001b[39m,\u001b[38;5;241m12\u001b[39m))\n\u001b[1;32m     27\u001b[0m \u001b[38;5;28;01mfor\u001b[39;00m i \u001b[38;5;129;01min\u001b[39;00m \u001b[38;5;28mrange\u001b[39m(\u001b[38;5;241m4\u001b[39m):\n\u001b[1;32m     28\u001b[0m     plt\u001b[38;5;241m.\u001b[39msubplot(\u001b[38;5;241m2\u001b[39m,\u001b[38;5;241m2\u001b[39m,i\u001b[38;5;241m+\u001b[39m\u001b[38;5;241m1\u001b[39m)\n",
      "\u001b[0;31mNameError\u001b[0m: name 'plt' is not defined"
     ]
    }
   ],
   "source": [
    "T1        = 5000       # starting time to show results\n",
    "Tshow     = 2000        # time window to show the results\n",
    "T         = T1 + Tshow # total time of the series\n",
    "dt        = 0.04       # integration time step size\n",
    "Nt        = int(T/dt)  # total time steps\n",
    "t         = np.linspace(0, T, Nt) # creating time series\n",
    "res       = np.zeros((Nt,3,4))    # creating zero matrix to store four time series\n",
    "res1      = np.zeros((Nt,3,4))\n",
    "\n",
    "kappaPrime= 0.90 # period 2\n",
    "res[:,:,0]  = main(kappaPrime, T1, Tshow, dt, plot=False)\n",
    "\n",
    "kappaPrime= 0.86 # period 4\n",
    "res[:,:,1]  = main(kappaPrime, T1, Tshow, dt, plot=False)\n",
    "\n",
    "kappaPrime= 0.856 # period 8\n",
    "res[:,:,2]  = main(kappaPrime, T1, Tshow, dt, plot=False)\n",
    "\n",
    "#kappaPrime= 0.8552 # period 16\n",
    "#kappaPrime = 0.85254 # chaotic\n",
    "kappaPrime = 0.85\n",
    "#kappaPrime = 0.8534\n",
    "res[:,:,3]  = main(kappaPrime, T1, Tshow, dt, plot=False)\n",
    "\n",
    "\n",
    "fig       = plt.figure(figsize=(12,12))\n",
    "for i in range(4):\n",
    "    plt.subplot(2,2,i+1)\n",
    "    if(i < 4):\n",
    "        plt.plot(t, res[:,1,i])\n",
    "        plt.xlabel(\"Time, $t$\")\n",
    "        plt.ylabel(\"y\")\n",
    "        plt.xlim(left = T1, right = T)\n",
    "    else:\n",
    "        plt.plot(res[:,1,i],res[:,2,i])\n",
    "    \n",
    "    plt.grid()\n",
    "    "
   ]
  },
  {
   "cell_type": "code",
   "execution_count": null,
   "id": "875bc037",
   "metadata": {},
   "outputs": [],
   "source": [
    "# plot 3D phase space trajectories for the four cases.\n",
    "Nt1   = int(T1/dt)\n",
    "col   = ['red', 'blue', 'green', 'orange']\n",
    "legend= ['0.9', '0.86', '0.856', '0.85']\n",
    "fig   = plt.figure()\n",
    "ax    = plt.axes(projection='3d')\n",
    "\n",
    "pind = range(Nt1,Nt,1)\n",
    "for i in range(4):\n",
    "    ax.plot3D(res[pind,0,i], res[pind,1,i], res[pind,2,i], col[i], label=legend[i])   \n",
    "    ax.grid()\n",
    "#ax.set_title('Phase space trajectories');\n",
    "ax.set_xlabel('x')\n",
    "ax.set_ylabel('y')\n",
    "ax.set_zlabel('z')\n",
    "ax.legend()\n",
    "plt.show()"
   ]
  },
  {
   "cell_type": "code",
   "execution_count": null,
   "id": "92a2322e",
   "metadata": {},
   "outputs": [],
   "source": [
    "from   ipywidgets           import *\n",
    "from   IPython.display      import display\n",
    "w = interactive(main, kappaPrime   = (0.8, .9, 0.01), \n",
    "               T1=T1, Tshow=Tshow, dt=dt, plot=True)\n",
    "display(w)\n"
   ]
  }
 ],
 "metadata": {
  "kernelspec": {
   "display_name": "Python [conda env:fenicsx]",
   "language": "python",
   "name": "conda-env-fenicsx-py"
  },
  "language_info": {
   "codemirror_mode": {
    "name": "ipython",
    "version": 3
   },
   "file_extension": ".py",
   "mimetype": "text/x-python",
   "name": "python",
   "nbconvert_exporter": "python",
   "pygments_lexer": "ipython3",
   "version": "3.11.6"
  }
 },
 "nbformat": 4,
 "nbformat_minor": 5
}
