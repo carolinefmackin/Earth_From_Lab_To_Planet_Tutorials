{
 "cells": [
  {
   "cell_type": "markdown",
   "id": "84ba9c06",
   "metadata": {},
   "source": [
    "# Pearson and Spearman rank correlation computation"
   ]
  },
  {
   "cell_type": "markdown",
   "id": "16c47830",
   "metadata": {},
   "source": [
    "## load libraries"
   ]
  },
  {
   "cell_type": "code",
   "execution_count": 4,
   "id": "45f6aed7",
   "metadata": {},
   "outputs": [],
   "source": [
    "import numpy as np # for math\n",
    "import scipy.stats as stats # for stats\n",
    "import pandas as pd # for file I/O\n",
    "import matplotlib.pyplot as plt # for plotting"
   ]
  },
  {
   "cell_type": "markdown",
   "id": "3d7680fe",
   "metadata": {},
   "source": [
    "## make fake data and save to file"
   ]
  },
  {
   "cell_type": "code",
   "execution_count": 5,
   "id": "8ce5e97b",
   "metadata": {},
   "outputs": [],
   "source": [
    "# make a fake data set\n",
    "nsample = 50 # noise parameters\n",
    "\n",
    "x = np.linspace(0,10,nsample)\n",
    "a=1; b=2; noise=30\n",
    "# linear \"model\"\n",
    "y =  a+b*x + (-.5+np.random.rand(len(x)))*noise\n",
    "\n",
    "# print to file - WARNING - overrides locaL stuff\n",
    "f = open('mydata.dat','w')\n",
    "for i in range(len(x)):\n",
    "    f.write(\"{:15.8e} {:15.8e}\\n\".format(x[i],y[i]))\n",
    "f.close()"
   ]
  },
  {
   "cell_type": "markdown",
   "id": "3ee96a4e",
   "metadata": {},
   "source": [
    "## read in x-y data"
   ]
  },
  {
   "cell_type": "code",
   "execution_count": 6,
   "id": "fddc5290",
   "metadata": {},
   "outputs": [
    {
     "name": "stdout",
     "output_type": "stream",
     "text": [
      "read 50 data from mydata.dat\n"
     ]
    }
   ],
   "source": [
    "# change file name here\n",
    "fname = 'mydata.dat'\n",
    "# use CSV reader, but no header, and white space separated\n",
    "data = pd.read_csv(fname,header=None,delim_whitespace=True)\n",
    "x=data[0].values;y=data[1].values\n",
    "print(f'read {len(x)} data from {fname}')"
   ]
  },
  {
   "cell_type": "markdown",
   "id": "f347bc59",
   "metadata": {},
   "source": [
    "## compute correlations"
   ]
  },
  {
   "cell_type": "code",
   "execution_count": 7,
   "id": "6cba6fad",
   "metadata": {},
   "outputs": [
    {
     "name": "stdout",
     "output_type": "stream",
     "text": [
      "r_p = 0.436 p_p = 99.845%\n",
      "r_s = 0.377 p_s = 99.299%\n"
     ]
    }
   ],
   "source": [
    "[rp, pp ] =stats.pearsonr(x,y)\n",
    "outp = 'r_p = {:5.3} p_p = {:5.3%}'.format(rp,(1-pp))\n",
    "print(outp)\n",
    "\n",
    "[rs, ps ] =stats.spearmanr(x,y)\n",
    "outs = 'r_s = {:5.3} p_s = {:5.3%}'.format(rs,(1-ps))\n",
    "print(outs)"
   ]
  },
  {
   "cell_type": "markdown",
   "id": "0e291721",
   "metadata": {},
   "source": [
    "## do a jackknife uncertainty estimate\n",
    "This is a very poor estimator of uncertainty, typically."
   ]
  },
  {
   "cell_type": "code",
   "execution_count": 8,
   "id": "56d3266d",
   "metadata": {},
   "outputs": [
    {
     "name": "stdout",
     "output_type": "stream",
     "text": [
      "error estimates from jacknife:\n",
      "r_pj = 0.436 \\pm 0.0158\n",
      "r_sj = 0.377 \\pm 0.0185\n"
     ]
    }
   ],
   "source": [
    "def jack_r(x,y):\n",
    "    ndata=len(x)\n",
    "    rpa=[];rsa=[]\n",
    "    for ir in range(nsample):\n",
    "        xd=np.delete(x,ir);yd=np.delete(y,ir) # delete one entry\n",
    "        [rp, pp ] =stats.pearsonr(xd,yd);[rs, ps]=stats.spearmanr(xd,yd) # compute correlation of culled sample\n",
    "        rpa.append(rp);rsa.append(rs)\n",
    "    return(np.mean(rpa),np.std(rpa,ddof=1),np.mean(rsa),np.std(rsa,ddof=1))\n",
    "\n",
    "[rpj, srpj, rsj, srsj]= jack_r(x,y)\n",
    "\n",
    "outpj = 'r_pj = {:5.3} \\pm {:5.3}'.format(rpj,srpj)\n",
    "outsj = 'r_sj = {:5.3} \\pm {:5.3}'.format(rsj,srsj)\n",
    "print('error estimates from jacknife:')\n",
    "print(outpj)\n",
    "print(outsj)"
   ]
  },
  {
   "cell_type": "markdown",
   "id": "f1be3a6a",
   "metadata": {},
   "source": [
    "## do a bootstrap uncercaintanty estimate\n",
    "This is much preferred."
   ]
  },
  {
   "cell_type": "code",
   "execution_count": 11,
   "id": "7e728b63",
   "metadata": {},
   "outputs": [
    {
     "name": "stdout",
     "output_type": "stream",
     "text": [
      "estimates from bootstrap:\n",
      "r_pb = 0.431 \\pm 0.108\n",
      "r_sb = 0.368 \\pm 0.127\n"
     ]
    }
   ],
   "source": [
    "# my simple boot strap\n",
    "def boot_r(x,y):\n",
    "    ndata=len(x)\n",
    "    nrsample=10000 # number of bootstrap samples\n",
    "    rpa=np.zeros(nrsample);rsa=np.zeros(nrsample) # preallocate to possibly make things faster than append (didn't do much difference)\n",
    "  \n",
    "    index = np.arange(ndata,dtype=\"int32\")\n",
    "    for ir in range(nrsample):\n",
    "        rindex=np.random.choice(index,replace=True,size=ndata)\n",
    "        xs=x[rindex];ys=y[rindex]\n",
    "        [rpa[ir], pp ]=stats.pearsonr(xs,ys)\n",
    "        [rsa[ir], ps ]=stats.spearmanr(xs,ys) # compute correlation of resampled data\n",
    "    \n",
    "    return(np.mean(rpa),np.std(rpa,ddof=1),np.mean(rsa),np.std(rsa,ddof=1))\n",
    "\n",
    "[rpb, srpb, rsb, srsb]= boot_r(x,y)\n",
    "\n",
    "outpb = 'r_pb = {:5.3} \\pm {:5.3}'.format(rpb,srpb)\n",
    "outsb = 'r_sb = {:5.3} \\pm {:5.3}'.format(rsb,srsb)\n",
    "print('estimates from bootstrap:')\n",
    "print(outpb)\n",
    "print(outsb)"
   ]
  },
  {
   "cell_type": "markdown",
   "id": "2bb96842",
   "metadata": {},
   "source": [
    "## plot"
   ]
  },
  {
   "cell_type": "code",
   "execution_count": 12,
   "id": "f8860ae0",
   "metadata": {},
   "outputs": [
    {
     "data": {
      "image/png": "[encoded data removed]",
      "text/plain": [
       "<Figure size 640x480 with 1 Axes>"
      ]
     },
     "metadata": {},
     "output_type": "display_data"
    }
   ],
   "source": [
    "plt.scatter(x,y)\n",
    "plt.xlabel('x')\n",
    "plt.ylabel('y')\n",
    "toutp = '$r_p = {:5.2} \\pm {:5.3};\\ p_p = {:5.3}$'.format(rpb,srpb,(1-pp))\n",
    "touts = '$r_s = {:5.2} \\pm {:5.3};\\ p_s = {:5.3}$'.format(rsb,srsb,(1-ps))\n",
    "plt.title(toutp+\"; \"+touts)\n",
    "plt.show()"
   ]
  },
  {
   "cell_type": "code",
   "execution_count": null,
   "id": "59855f42",
   "metadata": {},
   "outputs": [],
   "source": []
  }
 ],
 "metadata": {
  "kernelspec": {
   "display_name": "Python 3 (ipykernel)",
   "language": "python",
   "name": "python3"
  },
  "language_info": {
   "codemirror_mode": {
    "name": "ipython",
    "version": 3
   },
   "file_extension": ".py",
   "mimetype": "text/x-python",
   "name": "python",
   "nbconvert_exporter": "python",
   "pygments_lexer": "ipython3",
   "version": "3.9.13"
  }
 },
 "nbformat": 4,
 "nbformat_minor": 5
}
