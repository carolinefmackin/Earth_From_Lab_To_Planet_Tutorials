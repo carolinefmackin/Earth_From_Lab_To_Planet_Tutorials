{
 "cells": [
  {
   "cell_type": "markdown",
   "id": "7e2608b1",
   "metadata": {},
   "source": [
    "The notebook demonstrates how to solve a damping harmonic oscillator system. \n",
    "\\begin{align}\n",
    "\\ddot{x} + 2 \\zeta \\omega_0 \\dot{x} + \\omega_0^2  x = f\n",
    "\\end{align}"
   ]
  },
  {
   "cell_type": "code",
   "execution_count": 1,
   "id": "9c07996c",
   "metadata": {},
   "outputs": [],
   "source": [
    "%pip install -q ipywidgets matplotlib numpy scipy pandas\n",
    "import numpy  as np\n",
    "import pandas as pd\n",
    "import ode    as odeLib        # our ODE routines\n",
    "import matplotlib.pyplot as plt\n",
    "from   scipy                import integrate\n",
    "from   ipywidgets           import *\n",
    "from   IPython.display      import display"
   ]
  },
  {
   "cell_type": "markdown",
   "id": "4463a89a",
   "metadata": {},
   "source": [
    "Method 1: solve the ODE system with self-defined Euler, Midpoint, and Runge-Kutta methods. The ODE solvers are defined in ode.py that comes along with this repository."
   ]
  },
  {
   "cell_type": "code",
   "execution_count": 2,
   "id": "30d47135",
   "metadata": {},
   "outputs": [],
   "source": [
    "#\n",
    "# define probelm\n",
    "#\n",
    "class parameters:                 # parameters for functions, default values\n",
    "    zeta    = 0.1\n",
    "    omega0  = 2.*np.pi*1.0\n",
    "\n",
    "# \n",
    "# define functions for ODE solvres, need to be in f(t,x,par) format\n",
    "#\n",
    "# damping harmonic oscillator, dx/dt for dotx and x.\n",
    "\n",
    "ndim   = 2\n",
    "vlabel = [\"x\", \"dotx\"]            # labels for the variables\n",
    "def f0(t,x,par):                  # dx/dt      = dotx\n",
    "    return x[1]\n",
    "def f1(t,x,par):                  # d(dotx)/dt = f - 2*zeta*omega0*dotx - omega0^2*x \n",
    "    zeta   = par.zeta\n",
    "    omega0 = par.omega0\n",
    "    return -2.*zeta*omega0*x[1] - omega0**2*x[0]\n",
    "def ode_solver(time, xInit, method, ndim, par):\n",
    "    # method supports three options\n",
    "    # - 'eular'\n",
    "    # - 'midpoint'\n",
    "    # - 'runge_kutta'\n",
    "    \n",
    "    nstep = len(time)\n",
    "    xout  = np.empty((nstep,ndim))\n",
    "    \n",
    "    hs    = time[1] - time[0]\n",
    "    xtmp  = xInit\n",
    "    f     = [f0, f1]\n",
    "    for i, t in enumerate(time):\n",
    "        xout[i][:] = xtmp\n",
    "        if method  == 'euler':\n",
    "            xtmp   = odeLib.euler(t,xtmp,f,ndim,hs,par)\n",
    "        elif method == 'midpoint':\n",
    "            xtmp   = odeLib.midpoint(t,xtmp,f,ndim,hs,par)\n",
    "        elif method == 'runge_kutta':\n",
    "            xtmp   = odeLib.runge_kutta(t,xtmp,f,ndim,hs,par)\n",
    "    return xout[:, 0]"
   ]
  },
  {
   "cell_type": "markdown",
   "id": "58e6b50a",
   "metadata": {},
   "source": [
    "Method 2: solve the ODE system with finite difference."
   ]
  },
  {
   "cell_type": "code",
   "execution_count": 3,
   "id": "6f4394d0",
   "metadata": {},
   "outputs": [],
   "source": [
    "# Finite difference.\n",
    "# Central difference for the first derivative.\n",
    "def fd(t, zeta, omega0, x0, xdot0, x_1):\n",
    "    # t is discretized time series.\n",
    "    # zeta, omega0 are constants in the equations.\n",
    "    # x0 and x_1 are boundary conditions x[0] and x[-1].\n",
    "    # xdot0 is {dx/dt}[0], initial condition.\n",
    "    \n",
    "    # x''= [x(n+1)-2x(n)+x(n-1)]/dt^2\n",
    "    # x' = (x(n+1)-x(n-1))/dt/2\n",
    "    # the ODE is discretized into\n",
    "    # [x(n+1)-2x(n)+x(n-1)]/dt^2 + 2*zeta*omega0*(x(n+1)-x(n-1))/dt/2 + omega^2*x(n) = f(x(n)) + delta(dt^2)\n",
    "    \n",
    "    x    = np.zeros_like(t)\n",
    "    x[0] = x0\n",
    "    dt   = t[1] - t[0]\n",
    "    x[1] = xdot0*dt*2 + x_1 \n",
    "    # print(x[0], x[1])\n",
    "    a1   = zeta*omega0*dt\n",
    "    a2   = omega0**2*dt**2\n",
    "    for i in range(2,len(t)):\n",
    "        x[i] = (2.-a2)*x[i-1] + (a1-1.)*x[i-2]\n",
    "        x[i] = x[i]/(1.+a1)\n",
    "        # print(i,x[i],a1,a2,dt)\n",
    "    return x\n",
    "    "
   ]
  },
  {
   "cell_type": "markdown",
   "id": "cc7ff7f6",
   "metadata": {},
   "source": [
    "Method 3: sovle the ODE system with the ODE solver in Scipy integrate. "
   ]
  },
  {
   "cell_type": "code",
   "execution_count": 4,
   "id": "236116dc",
   "metadata": {},
   "outputs": [],
   "source": [
    "def odeF(X, t, zeta, omega0):\n",
    "    \"\"\"\n",
    "    Free Harmonic Oscillator ODE\n",
    "    \"\"\"\n",
    "    x, dotx = X\n",
    "    ddotx = -2*zeta*omega0*dotx - omega0**2*x\n",
    "    return [dotx, ddotx]\n",
    "\n",
    "def ode_solver_scipy(t, xInit, zeta = 0.05, omega0 = 2.*np.pi):\n",
    "    sol     = integrate.odeint(odeF, xInit, t, args = (zeta, omega0))\n",
    "    return sol[:, 0]\n"
   ]
  },
  {
   "cell_type": "code",
   "execution_count": 5,
   "id": "b6bfcb13",
   "metadata": {},
   "outputs": [],
   "source": [
    "def main(zeta = 0.05, omega0 = 2.*np.pi):\n",
    "    \n",
    "    Nt     = 1000\n",
    "    t      = np.linspace(0., 10., Nt)\n",
    "\n",
    "    # initial and boundary conditions for the finite difference method.\n",
    "    x0     = 1.\n",
    "    x_1    = 1. # Assume x[-1] = x[0]\n",
    "    xdot0  = 0.\n",
    "\n",
    "    # \n",
    "    xInit  = [1., 0.] # x[0] and dotx[0]\n",
    "\n",
    "    # set constants for the system\n",
    "    #omega0 = 2.*np.pi*1.\n",
    "    #zeta   = 0.1\n",
    "\n",
    "    par        = parameters()\n",
    "    par.zeta   = zeta\n",
    "    par.omega0 = omega0\n",
    "\n",
    "    # Method 1, Euler.\n",
    "    xInit  = [1., 0.] # x[0] and dotx[0]\n",
    "    x1a    = ode_solver(t, xInit, 'euler',       ndim, par)\n",
    "\n",
    "    # Method 1, Midpoint\n",
    "    xInit  = [1., 0.] # x[0] and dotx[0]\n",
    "    x1b    = ode_solver(t, xInit, 'midpoint',    ndim, par)\n",
    "\n",
    "    # Method 1, Runge_Kutta\n",
    "    xInit  = [1., 0.] # x[0] and dotx[0]\n",
    "    x1c    = ode_solver(t, xInit, 'runge_kutta', ndim, par)\n",
    "\n",
    "    # Method 2, FD\n",
    "    x2     = fd(t, zeta, omega0, x0, xdot0, x_1) # Method 2, fd\n",
    "\n",
    "    # Method 3, Scipy ODE.\n",
    "    xInit  = [1., 0.] # x[0] and dotx[0]\n",
    "    x3     = ode_solver_scipy(t, xInit, zeta, omega0) # Method 3, scipy\n",
    "    \n",
    "    fig    = plt.figure()\n",
    "\n",
    "    plt.plot(t, x1a, 'k',    label='euler',       linewidth=3)\n",
    "    plt.plot(t, x1b, 'g--',  label='midpoint',    linewidth=2.5)\n",
    "    plt.plot(t, x1c, 'b:',   label='runge_kutta', linewidth=2)\n",
    "    plt.plot(t, x2,  'r-',   label='fd')\n",
    "    plt.plot(t, x3,  'm:',   label='scipy_ode')\n",
    "    \n",
    "    plt.grid()\n",
    "    plt.ylim(-1., 1.)\n",
    "    plt.xlabel(\"Time, $t$\")\n",
    "    plt.ylabel(\"Amplitude, $a$\")\n",
    "    plt.legend()\n",
    "    \n",
    "    return fig"
   ]
  },
  {
   "cell_type": "code",
   "execution_count": 6,
   "id": "d002bc6c",
   "metadata": {
    "scrolled": true
   },
   "outputs": [
    {
     "data": {
      "application/vnd.jupyter.widget-view+json": {
       "model_id": "6ff2899a847c401b91354e92756c2130",
       "version_major": 2,
       "version_minor": 0
      },
      "text/plain": [
       "interactive(children=(FloatSlider(value=0.05, description='zeta', max=1.0, step=0.01), FloatSlider(value=6.283…"
      ]
     },
     "metadata": {},
     "output_type": "display_data"
    }
   ],
   "source": [
    "w = interactive(main, zeta   = (0., 1., 0.01), \n",
    "               omega0 = (2.*np.pi*0.05, 2.*np.pi*5., 2.*np.pi*0.01))\n",
    "display(w)"
   ]
  },
  {
   "cell_type": "code",
   "execution_count": null,
   "id": "9de92831",
   "metadata": {},
   "outputs": [],
   "source": []
  }
 ],
 "metadata": {
  "kernelspec": {
   "display_name": "Python 3 (ipykernel)",
   "language": "python",
   "name": "python3"
  },
  "language_info": {
   "codemirror_mode": {
    "name": "ipython",
    "version": 3
   },
   "file_extension": ".py",
   "mimetype": "text/x-python",
   "name": "python",
   "nbconvert_exporter": "python",
   "pygments_lexer": "ipython3",
   "version": "3.8.5"
  }
 },
 "nbformat": 4,
 "nbformat_minor": 5
}
