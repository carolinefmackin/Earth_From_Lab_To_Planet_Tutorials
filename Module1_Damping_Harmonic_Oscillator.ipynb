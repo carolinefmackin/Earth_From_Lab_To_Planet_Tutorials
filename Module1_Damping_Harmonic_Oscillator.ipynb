{
 "cells": [
  {
   "cell_type": "markdown",
   "id": "7e2608b1",
   "metadata": {},
   "source": [
    "The notebook demonstrates how to solve a damping harmonic oscillator system. \n",
    "\\begin{align}\n",
    "\\ddot{x} + 2 \\zeta \\omega_0 \\dot{x} + \\omega_0^2  x = f\n",
    "\\end{align}\n",
    "\n",
    "where \n",
    "\\begin{align} \n",
    "\\omega_0 = \\sqrt{k/m} \\\\\n",
    "\\zeta    = \\mu / 2m \n",
    "\\end{align}\n"
   ]
  },
  {
   "cell_type": "code",
   "execution_count": 1,
   "id": "9c07996c",
   "metadata": {},
   "outputs": [],
   "source": [
    "import numpy as np\n",
    "import pandas as pd\n",
    "import matplotlib.pyplot as plt\n",
    "from scipy import integrate\n",
    "import ipywidgets as ipw"
   ]
  },
  {
   "cell_type": "markdown",
   "id": "cd0f56cd",
   "metadata": {},
   "source": [
    "The first method we try to solve the ODE system is finite difference."
   ]
  },
  {
   "cell_type": "code",
   "execution_count": 2,
   "id": "6f4394d0",
   "metadata": {},
   "outputs": [],
   "source": [
    "# Finite difference.\n",
    "# Central difference for the first derivative.\n",
    "def fd(t, zeta, omega0, x0, xdot0, x_1):\n",
    "    # t is discretized time series.\n",
    "    # zeta, omega0 are constants in the equations.\n",
    "    # x0 and x_1 are boundary conditions x[0] and x[-1].\n",
    "    # xdot0 is {dx/dt}[0], initial condition.\n",
    "    \n",
    "    # x''= [x(n+1)-2x(n)+x(n-1)]/dt^2\n",
    "    # x' = (x(n+1)-x(n-1))/dt/2\n",
    "    # the ODE is discretized into\n",
    "    # [x(n+1)-2x(n)+x(n-1)]/dt^2 + 2*zeta*omega0*(x(n+1)-x(n-1))/dt/2 + omega^2*x(n) = f(x(n)) + delta(dt^2)\n",
    "    \n",
    "    x    = np.zeros_like(t)\n",
    "    x[0] = x0\n",
    "    dt   = t[1] - t[0]\n",
    "    x[1] = xdot0*dt*2 + x_1 \n",
    "    # print(x[0], x[1])\n",
    "    a1   = zeta*omega0*dt\n",
    "    a2   = omega0**2*dt**2\n",
    "    for i in range(2,len(t)):\n",
    "        x[i] = (2.-a2)*x[i-1] + (a1-1.)*x[i-2]\n",
    "        x[i] = x[i]/(1.+a1)\n",
    "        # print(i,x[i],a1,a2,dt)\n",
    "    return x\n",
    "    "
   ]
  },
  {
   "cell_type": "markdown",
   "id": "cc7ff7f6",
   "metadata": {},
   "source": [
    "A second solution is to use scipy integrate to sovle the ODE. \n",
    "\n",
    "\n",
    "Referece: https://scientific-python.readthedocs.io/en/latest/notebooks_rst/3_Ordinary_Differential_Equations/02_Examples/Harmonic_Oscillator.html\n"
   ]
  },
  {
   "cell_type": "code",
   "execution_count": 3,
   "id": "236116dc",
   "metadata": {},
   "outputs": [],
   "source": [
    "def ode(X, t, zeta, omega0):\n",
    "    \"\"\"\n",
    "    Free Harmonic Oscillator ODE\n",
    "    \"\"\"\n",
    "    x, dotx = X\n",
    "    ddotx = -2*zeta*omega0*dotx - omega0**2*x\n",
    "    return [dotx, ddotx]\n",
    "\n",
    "def update(X0, zeta = 0.05, omega0 = 2.*np.pi):\n",
    "    \"\"\"\n",
    "    Update function.\n",
    "    \"\"\"\n",
    "    #X0 = [1., 0.] x[0] and dotx[0]\n",
    "    \n",
    "    sol = integrate.odeint(ode, X0, t, args = (zeta, omega0))\n",
    "    return sol[:, 0]\n"
   ]
  },
  {
   "cell_type": "code",
   "execution_count": 4,
   "id": "b6bfcb13",
   "metadata": {},
   "outputs": [
    {
     "data": {
      "text/plain": [
       "<matplotlib.legend.Legend at 0x14acb046d90>"
      ]
     },
     "execution_count": 4,
     "metadata": {},
     "output_type": "execute_result"
    },
    {
     "data": {
      "image/png": "[encoded data removed]",
      "text/plain": [
       "<Figure size 432x288 with 1 Axes>"
      ]
     },
     "metadata": {
      "needs_background": "light"
     },
     "output_type": "display_data"
    }
   ],
   "source": [
    "Nt     = 1000\n",
    "t      = np.linspace(0., 10., Nt)\n",
    "\n",
    "# initial and boundary conditions for the finite difference method.\n",
    "x0     = 1.\n",
    "x_1    = 1. # Assume x[-1] = x[0]\n",
    "xdot0  = 0.\n",
    "\n",
    "# \n",
    "X0     = [1., 0.] # x[0] and dotx[0]\n",
    "\n",
    "# set constants for the system\n",
    "omega0 = 2.*np.pi*1.\n",
    "zeta   = 0.1\n",
    "\n",
    "x1     = fd(t, zeta, omega0, x0, xdot0, x_1) # Method 1\n",
    "x2     = update(X0, zeta, omega0) # Method 2\n",
    "fig    = plt.figure()\n",
    "\n",
    "plt.plot(t, x1, 'r',  label='fd')\n",
    "plt.plot(t, x2, 'k:', label='scipy_ode')\n",
    "\n",
    "plt.grid()\n",
    "plt.ylim(-1., 1.)\n",
    "plt.xlabel(\"Time, $t$\")\n",
    "plt.ylabel(\"Amplitude, $a$\")\n",
    "plt.legend()"
   ]
  }
 ],
 "metadata": {
  "kernelspec": {
   "display_name": "Python 3 (ipykernel)",
   "language": "python",
   "name": "python3"
  },
  "language_info": {
   "codemirror_mode": {
    "name": "ipython",
    "version": 3
   },
   "file_extension": ".py",
   "mimetype": "text/x-python",
   "name": "python",
   "nbconvert_exporter": "python",
   "pygments_lexer": "ipython3",
   "version": "3.8.5"
  }
 },
 "nbformat": 4,
 "nbformat_minor": 5
}
