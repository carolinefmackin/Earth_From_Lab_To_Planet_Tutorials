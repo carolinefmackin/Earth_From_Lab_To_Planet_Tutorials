{
 "cells": [
  {
   "cell_type": "code",
   "execution_count": null,
   "id": "b564bccf",
   "metadata": {},
   "outputs": [],
   "source": [
    "fig, axes = plt.subplots(3,1)\n",
    "axes[0].plot(t,x[:,0]);axes[0].set_xlabel('time');axes[0].set_ylabel('displacement')"
   ]
  }
 ],
 "metadata": {
  "kernelspec": {
   "display_name": "Python 3 (ipykernel)",
   "language": "python",
   "name": "python3"
  },
  "language_info": {
   "codemirror_mode": {
    "name": "ipython",
    "version": 3
   },
   "file_extension": ".py",
   "mimetype": "text/x-python",
   "name": "python",
   "nbconvert_exporter": "python",
   "pygments_lexer": "ipython3",
   "version": "3.9.13"
  }
 },
 "nbformat": 4,
 "nbformat_minor": 5
}
